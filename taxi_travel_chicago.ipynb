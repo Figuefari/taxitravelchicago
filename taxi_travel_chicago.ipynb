{
 "cells": [
  {
   "cell_type": "markdown",
   "metadata": {},
   "source": [
    "# Análisis de viajes de taxis en Chicago"
   ]
  },
  {
   "cell_type": "markdown",
   "metadata": {},
   "source": [
    "\n",
    "Una nueva empresa de viajes compartidos en Chicago necesita encontrar patrones de comportamiento con los datos disponibles. Conocer la preferencia de los pasajeros y el impacto de los factores externos en los viajes permitirá iniciar un servicio óptimo y competitivo en la ciudad.\n",
    "\n",
    "Analizarémos datos de posibles competidores en el escenario local y medirémos la percepción y preferencia de los clientes respecto a qué compañías de taxis prefieren, cuáles son los barrios más frecuentados y el impacto de factores climatológicos en el servicio de transporte.\n"
   ]
  },
  {
   "cell_type": "markdown",
   "metadata": {},
   "source": [
    "**Tabla de contenidos:**\n",
    "\n",
    " **1. Inicialización:**\n",
    " \n",
    "    - Carga de datos\n",
    "    - Exploración inicial\n",
    "    - Conclusiones preliminares\n",
    "    \n",
    "    \n",
    " **3. Preprocesamiento de datos:**\n",
    " \n",
    "    - Corrección en tipo de datos\n",
    "    - Verificación de duplicados implícitos\n",
    "    - Registros duplicados\n",
    "    - Comprobación de valores\n",
    " \n",
    " \n",
    " **4. Análisis de datos:**\n",
    " \n",
    "    - Planteamiento de interrogantes\n",
    "    - Compañías de taxis y viajes realizados\n",
    "    - Finalizaciones de viajes en barrios de Chicago\n",
    "    \n",
    " **5. Pruebas de hipótesis:**\n",
    " \n",
    "    - Pruebas de Levene\n",
    "    - Pruebas T\n",
    "    - Resultados finales\n",
    "    \n",
    "    \n",
    " **6. Conclusiones**"
   ]
  },
  {
   "cell_type": "markdown",
   "metadata": {},
   "source": [
    "## Inicialización"
   ]
  },
  {
   "cell_type": "markdown",
   "metadata": {},
   "source": [
    "Cargamos las librerías necesarias:"
   ]
  },
  {
   "cell_type": "code",
   "execution_count": 1,
   "metadata": {},
   "outputs": [],
   "source": [
    "# Cargamos las librerías\n",
    "import pandas as pd\n",
    "import math\n",
    "import numpy as np\n",
    "from scipy import stats as st\n",
    "import matplotlib.pyplot as plt\n",
    "import seaborn as sns\n",
    "\n",
    "from matplotlib import lines\n",
    "from matplotlib import patches\n",
    "from matplotlib.patheffects import withStroke"
   ]
  },
  {
   "cell_type": "markdown",
   "metadata": {},
   "source": [
    "### Carga de datos"
   ]
  },
  {
   "cell_type": "markdown",
   "metadata": {},
   "source": [
    "Además de los datos trabajados anteriormente, se nos proporcionan tres nuevos archivos que examinarémos a continuación."
   ]
  },
  {
   "cell_type": "code",
   "execution_count": 2,
   "metadata": {},
   "outputs": [],
   "source": [
    "# Primer archivo de resultados\n",
    "zuber_sql_result_01 = pd.read_csv('/datasets/project_sql_result_01.csv')\n",
    "# Segundo archivo de resultados\n",
    "zuber_sql_result_04 = pd.read_csv('/datasets/project_sql_result_04.csv')\n",
    "# Tercer archivo de resultados\n",
    "zuber_sql_result_07 = pd.read_csv('/datasets/project_sql_result_07.csv')"
   ]
  },
  {
   "cell_type": "markdown",
   "metadata": {},
   "source": [
    "### Exploración inicial de los datos"
   ]
  },
  {
   "cell_type": "markdown",
   "metadata": {},
   "source": [
    "Estos tres dataset seran tratados para estudiar los datos que contienen. El orden de exploración de los datos para cada dataset será el siguiente:\n",
    "\n",
    "    1. Vista a la información general.\n",
    "    2. Descripción de datos en base a la información previa proporcionada.\n",
    "    3. Tipo de datos.\n",
    "    4. Observación de algunos valores del dataset.\n",
    "    5. Comprobación de datos ausentes en el dataset."
   ]
  },
  {
   "cell_type": "markdown",
   "metadata": {},
   "source": [
    "#### Primer dataset: zuber_sql_result_01"
   ]
  },
  {
   "cell_type": "markdown",
   "metadata": {},
   "source": [
    "Damos una vista a la información general."
   ]
  },
  {
   "cell_type": "code",
   "execution_count": 3,
   "metadata": {},
   "outputs": [
    {
     "name": "stdout",
     "output_type": "stream",
     "text": [
      "<class 'pandas.core.frame.DataFrame'>\n",
      "RangeIndex: 64 entries, 0 to 63\n",
      "Data columns (total 2 columns):\n",
      " #   Column        Non-Null Count  Dtype \n",
      "---  ------        --------------  ----- \n",
      " 0   company_name  64 non-null     object\n",
      " 1   trips_amount  64 non-null     int64 \n",
      "dtypes: int64(1), object(1)\n",
      "memory usage: 1.1+ KB\n"
     ]
    }
   ],
   "source": [
    "# Información general\n",
    "zuber_sql_result_01.info()"
   ]
  },
  {
   "cell_type": "markdown",
   "metadata": {},
   "source": [
    "Tenemos dos columnas en este dataset. De acuerdo a la información entregada y la vista en la información general, tenemos:"
   ]
  },
  {
   "cell_type": "markdown",
   "metadata": {},
   "source": [
    "**1. company_name** \n",
    "\n",
    "    - Descripción: nombre de la empresa de taxis.\n",
    "    - Tipo de datos: object.\n",
    "\n",
    "**2. trips_amount**\n",
    "\n",
    "    - Descripción: número de viajes de cada compañía de taxis el 15 y 16 de noviembre de 2017.\n",
    "    - Tipo de datos: int64.\n"
   ]
  },
  {
   "cell_type": "code",
   "execution_count": 4,
   "metadata": {},
   "outputs": [
    {
     "data": {
      "text/html": [
       "<div>\n",
       "<style scoped>\n",
       "    .dataframe tbody tr th:only-of-type {\n",
       "        vertical-align: middle;\n",
       "    }\n",
       "\n",
       "    .dataframe tbody tr th {\n",
       "        vertical-align: top;\n",
       "    }\n",
       "\n",
       "    .dataframe thead th {\n",
       "        text-align: right;\n",
       "    }\n",
       "</style>\n",
       "<table border=\"1\" class=\"dataframe\">\n",
       "  <thead>\n",
       "    <tr style=\"text-align: right;\">\n",
       "      <th></th>\n",
       "      <th>company_name</th>\n",
       "      <th>trips_amount</th>\n",
       "    </tr>\n",
       "  </thead>\n",
       "  <tbody>\n",
       "    <tr>\n",
       "      <th>0</th>\n",
       "      <td>Flash Cab</td>\n",
       "      <td>19558</td>\n",
       "    </tr>\n",
       "    <tr>\n",
       "      <th>1</th>\n",
       "      <td>Taxi Affiliation Services</td>\n",
       "      <td>11422</td>\n",
       "    </tr>\n",
       "    <tr>\n",
       "      <th>2</th>\n",
       "      <td>Medallion Leasing</td>\n",
       "      <td>10367</td>\n",
       "    </tr>\n",
       "    <tr>\n",
       "      <th>3</th>\n",
       "      <td>Yellow Cab</td>\n",
       "      <td>9888</td>\n",
       "    </tr>\n",
       "    <tr>\n",
       "      <th>4</th>\n",
       "      <td>Taxi Affiliation Service Yellow</td>\n",
       "      <td>9299</td>\n",
       "    </tr>\n",
       "  </tbody>\n",
       "</table>\n",
       "</div>"
      ],
      "text/plain": [
       "                      company_name  trips_amount\n",
       "0                        Flash Cab         19558\n",
       "1        Taxi Affiliation Services         11422\n",
       "2                Medallion Leasing         10367\n",
       "3                       Yellow Cab          9888\n",
       "4  Taxi Affiliation Service Yellow          9299"
      ]
     },
     "execution_count": 4,
     "metadata": {},
     "output_type": "execute_result"
    }
   ],
   "source": [
    "# Vista de los primeros cinco valores\n",
    "zuber_sql_result_01.head(5)"
   ]
  },
  {
   "cell_type": "markdown",
   "metadata": {},
   "source": [
    "Este primer dataset contiene 64 registros en total el cual no presenta valores ausentes en alguna de sus columnas. Lo confirmamos a continuación:"
   ]
  },
  {
   "cell_type": "code",
   "execution_count": 5,
   "metadata": {
    "scrolled": true
   },
   "outputs": [
    {
     "data": {
      "text/plain": [
       "company_name    0\n",
       "trips_amount    0\n",
       "dtype: int64"
      ]
     },
     "execution_count": 5,
     "metadata": {},
     "output_type": "execute_result"
    }
   ],
   "source": [
    "# Valores ausentes\n",
    "zuber_sql_result_01.isnull().sum()"
   ]
  },
  {
   "cell_type": "markdown",
   "metadata": {},
   "source": [
    "#### Segundo dataset: zuber_sql_result_04"
   ]
  },
  {
   "cell_type": "markdown",
   "metadata": {},
   "source": [
    "Damos una vista a la información general."
   ]
  },
  {
   "cell_type": "code",
   "execution_count": 6,
   "metadata": {},
   "outputs": [
    {
     "name": "stdout",
     "output_type": "stream",
     "text": [
      "<class 'pandas.core.frame.DataFrame'>\n",
      "RangeIndex: 94 entries, 0 to 93\n",
      "Data columns (total 2 columns):\n",
      " #   Column                 Non-Null Count  Dtype  \n",
      "---  ------                 --------------  -----  \n",
      " 0   dropoff_location_name  94 non-null     object \n",
      " 1   average_trips          94 non-null     float64\n",
      "dtypes: float64(1), object(1)\n",
      "memory usage: 1.6+ KB\n"
     ]
    }
   ],
   "source": [
    "# Información general\n",
    "zuber_sql_result_04.info()"
   ]
  },
  {
   "cell_type": "markdown",
   "metadata": {},
   "source": [
    "Tenemos dos columnas en este dataset. De acuerdo a la información entregada y la vista en la información general, tenemos:"
   ]
  },
  {
   "cell_type": "markdown",
   "metadata": {},
   "source": [
    "**1. dropoff_location_name** \n",
    "\n",
    "    - Descripción: : barrios de Chicago donde finalizaron los viajes.\n",
    "    - Tipo de datos: object.\n",
    "\n",
    "**2. average_trips**\n",
    "\n",
    "    - Descripción: el promedio de viajes que terminaron en cada barrio en noviembre de 2017.\n",
    "    - Tipo de datos: float64.\n"
   ]
  },
  {
   "cell_type": "code",
   "execution_count": 7,
   "metadata": {},
   "outputs": [
    {
     "data": {
      "text/html": [
       "<div>\n",
       "<style scoped>\n",
       "    .dataframe tbody tr th:only-of-type {\n",
       "        vertical-align: middle;\n",
       "    }\n",
       "\n",
       "    .dataframe tbody tr th {\n",
       "        vertical-align: top;\n",
       "    }\n",
       "\n",
       "    .dataframe thead th {\n",
       "        text-align: right;\n",
       "    }\n",
       "</style>\n",
       "<table border=\"1\" class=\"dataframe\">\n",
       "  <thead>\n",
       "    <tr style=\"text-align: right;\">\n",
       "      <th></th>\n",
       "      <th>dropoff_location_name</th>\n",
       "      <th>average_trips</th>\n",
       "    </tr>\n",
       "  </thead>\n",
       "  <tbody>\n",
       "    <tr>\n",
       "      <th>0</th>\n",
       "      <td>Loop</td>\n",
       "      <td>10727.466667</td>\n",
       "    </tr>\n",
       "    <tr>\n",
       "      <th>1</th>\n",
       "      <td>River North</td>\n",
       "      <td>9523.666667</td>\n",
       "    </tr>\n",
       "    <tr>\n",
       "      <th>2</th>\n",
       "      <td>Streeterville</td>\n",
       "      <td>6664.666667</td>\n",
       "    </tr>\n",
       "    <tr>\n",
       "      <th>3</th>\n",
       "      <td>West Loop</td>\n",
       "      <td>5163.666667</td>\n",
       "    </tr>\n",
       "    <tr>\n",
       "      <th>4</th>\n",
       "      <td>O'Hare</td>\n",
       "      <td>2546.900000</td>\n",
       "    </tr>\n",
       "  </tbody>\n",
       "</table>\n",
       "</div>"
      ],
      "text/plain": [
       "  dropoff_location_name  average_trips\n",
       "0                  Loop   10727.466667\n",
       "1           River North    9523.666667\n",
       "2         Streeterville    6664.666667\n",
       "3             West Loop    5163.666667\n",
       "4                O'Hare    2546.900000"
      ]
     },
     "execution_count": 7,
     "metadata": {},
     "output_type": "execute_result"
    }
   ],
   "source": [
    "# Vista de los primeros cinco valores\n",
    "zuber_sql_result_04.head(5)"
   ]
  },
  {
   "cell_type": "markdown",
   "metadata": {},
   "source": [
    "Este segundo dataset contiene 94 registros en total el cual no presenta valores ausentes en alguna de sus columnas. Lo confirmamos a continuación:"
   ]
  },
  {
   "cell_type": "code",
   "execution_count": 8,
   "metadata": {
    "scrolled": true
   },
   "outputs": [
    {
     "data": {
      "text/plain": [
       "dropoff_location_name    0\n",
       "average_trips            0\n",
       "dtype: int64"
      ]
     },
     "execution_count": 8,
     "metadata": {},
     "output_type": "execute_result"
    }
   ],
   "source": [
    "# Valores ausentes\n",
    "zuber_sql_result_04.isnull().sum()"
   ]
  },
  {
   "cell_type": "markdown",
   "metadata": {},
   "source": [
    "#### Tercer dataset: zuber_sql_result_07"
   ]
  },
  {
   "cell_type": "markdown",
   "metadata": {},
   "source": [
    "Damos una vista a la información general."
   ]
  },
  {
   "cell_type": "code",
   "execution_count": 9,
   "metadata": {
    "scrolled": true
   },
   "outputs": [
    {
     "name": "stdout",
     "output_type": "stream",
     "text": [
      "<class 'pandas.core.frame.DataFrame'>\n",
      "RangeIndex: 1068 entries, 0 to 1067\n",
      "Data columns (total 3 columns):\n",
      " #   Column              Non-Null Count  Dtype  \n",
      "---  ------              --------------  -----  \n",
      " 0   start_ts            1068 non-null   object \n",
      " 1   weather_conditions  1068 non-null   object \n",
      " 2   duration_seconds    1068 non-null   float64\n",
      "dtypes: float64(1), object(2)\n",
      "memory usage: 25.2+ KB\n"
     ]
    }
   ],
   "source": [
    "# Información general\n",
    "zuber_sql_result_07.info()"
   ]
  },
  {
   "cell_type": "markdown",
   "metadata": {},
   "source": [
    "Tenemos tres columnas en este dataset. De acuerdo a la información entregada y la vista en la información general, tenemos:"
   ]
  },
  {
   "cell_type": "markdown",
   "metadata": {},
   "source": [
    "**1. start_ts** \n",
    "\n",
    "    - Descripción: : fecha y hora de la recogida.\n",
    "    - Tipo de datos: object.\n",
    "\n",
    "**2. weather_conditions**\n",
    "\n",
    "    - Descripción: condiciones climáticas en el momento que comenzó el viaje.\n",
    "    - Tipo de datos: object.\n",
    "\n",
    "**2. duration_seconds**\n",
    "\n",
    "    - Descripción: duración del viaje en segundos.\n",
    "    - Tipo de datos: float64."
   ]
  },
  {
   "cell_type": "code",
   "execution_count": 10,
   "metadata": {},
   "outputs": [
    {
     "data": {
      "text/html": [
       "<div>\n",
       "<style scoped>\n",
       "    .dataframe tbody tr th:only-of-type {\n",
       "        vertical-align: middle;\n",
       "    }\n",
       "\n",
       "    .dataframe tbody tr th {\n",
       "        vertical-align: top;\n",
       "    }\n",
       "\n",
       "    .dataframe thead th {\n",
       "        text-align: right;\n",
       "    }\n",
       "</style>\n",
       "<table border=\"1\" class=\"dataframe\">\n",
       "  <thead>\n",
       "    <tr style=\"text-align: right;\">\n",
       "      <th></th>\n",
       "      <th>start_ts</th>\n",
       "      <th>weather_conditions</th>\n",
       "      <th>duration_seconds</th>\n",
       "    </tr>\n",
       "  </thead>\n",
       "  <tbody>\n",
       "    <tr>\n",
       "      <th>0</th>\n",
       "      <td>2017-11-25 16:00:00</td>\n",
       "      <td>Good</td>\n",
       "      <td>2410.0</td>\n",
       "    </tr>\n",
       "    <tr>\n",
       "      <th>1</th>\n",
       "      <td>2017-11-25 14:00:00</td>\n",
       "      <td>Good</td>\n",
       "      <td>1920.0</td>\n",
       "    </tr>\n",
       "    <tr>\n",
       "      <th>2</th>\n",
       "      <td>2017-11-25 12:00:00</td>\n",
       "      <td>Good</td>\n",
       "      <td>1543.0</td>\n",
       "    </tr>\n",
       "    <tr>\n",
       "      <th>3</th>\n",
       "      <td>2017-11-04 10:00:00</td>\n",
       "      <td>Good</td>\n",
       "      <td>2512.0</td>\n",
       "    </tr>\n",
       "    <tr>\n",
       "      <th>4</th>\n",
       "      <td>2017-11-11 07:00:00</td>\n",
       "      <td>Good</td>\n",
       "      <td>1440.0</td>\n",
       "    </tr>\n",
       "  </tbody>\n",
       "</table>\n",
       "</div>"
      ],
      "text/plain": [
       "              start_ts weather_conditions  duration_seconds\n",
       "0  2017-11-25 16:00:00               Good            2410.0\n",
       "1  2017-11-25 14:00:00               Good            1920.0\n",
       "2  2017-11-25 12:00:00               Good            1543.0\n",
       "3  2017-11-04 10:00:00               Good            2512.0\n",
       "4  2017-11-11 07:00:00               Good            1440.0"
      ]
     },
     "execution_count": 10,
     "metadata": {},
     "output_type": "execute_result"
    }
   ],
   "source": [
    "# Vista de los primeros cinco valores\n",
    "zuber_sql_result_07.head(5)"
   ]
  },
  {
   "cell_type": "markdown",
   "metadata": {},
   "source": [
    "Este tercer dataset contiene 1068 registros en total el cual no presenta valores ausentes en alguna de sus columnas. Lo confirmamos a continuación:"
   ]
  },
  {
   "cell_type": "code",
   "execution_count": 11,
   "metadata": {},
   "outputs": [
    {
     "data": {
      "text/plain": [
       "start_ts              0\n",
       "weather_conditions    0\n",
       "duration_seconds      0\n",
       "dtype: int64"
      ]
     },
     "execution_count": 11,
     "metadata": {},
     "output_type": "execute_result"
    }
   ],
   "source": [
    "# Valores ausentes\n",
    "zuber_sql_result_07.isnull().sum()"
   ]
  },
  {
   "cell_type": "markdown",
   "metadata": {},
   "source": [
    "### Conclusiones preliminares de acuerdo a la información de los datos"
   ]
  },
  {
   "cell_type": "markdown",
   "metadata": {},
   "source": [
    "Los archivos CSV que nos han entregado, fueron transformados en dos dataset que presentan información de empresas de taxis en Chicago en el periodo de Noviembre del año 2017.\n",
    "\n",
    "El primer dataset nos muestra la información de los nombres de las empresas de taxis y la cantidad de viajes para cada una realizados en los días 15 y 16 de noviembre del 2017. Su información se presenta ordenada en dos columnas:\n",
    "\n",
    "    - company_name\n",
    "    - trips_amount\n",
    "    \n",
    "El segundo dataset nos entrega información de los barrios donde finalizaron los viajes y el promedio de viajes para cada uno en noviembre del 2017. La información se presenta en dos columnas:\n",
    "\n",
    "    - dropoff_location_name\n",
    "    - average_trips\n",
    "\n",
    "El tercer dataset nos entrega información de los viajes desde el barrio \"Loop\" hasta el Aeropuerto Internacional O'Hare de Chicago.\n",
    "\n",
    "    - start_ts\n",
    "    - weather_conditions\n",
    "    - duration_seconds\n",
    "\n",
    "\n",
    "**Respecto a la cantidad de datos:**\n",
    "\n",
    "- El primer dataset presenta 64 registros el segundo 94 y el tercero 1068.\n",
    "\n",
    "- *Ningún dataset tiene registros ausentes*\n",
    "\n",
    "**Respecto al tipo de datos:**\n",
    "- Tanto *company_name* como *dropoff_location_name* se presentan como tipo Object en los primeros dataset\n",
    "\n",
    "- Considerando que si queremos trabajar con \"viajes cumplidos\" estos deben ser del tipo entero; por un lado, *trips_amount* cumple al ser de tipo int64, pero por otro, *average_trips* debiera ser redondeado hacia abajo. Sería apropiado complementar la información de *average_trips* para ver cómo se recopilaron estos datos.\n",
    "\n",
    "- Respecto al tercer dataset, la columna *start_ts* se presenta como tipo Object y podría transformarse a Datetime; necesitamos probar una hipótesis que enmarca un día de la semana, por lo tanto no nos sirve esta columna como Object. Respecto a las otras columnas, *duration_seconds* se puede modificar a tipo entero.\n",
    "\n",
    "**Otros aspectos:**\n",
    "\n",
    "- Es necesario verificar que los nombres tanto de las compañías de taxis como de los barrios de Chicago, no presenten duplicados implícitos.\n",
    "\n",
    "- Se tendrá que revisar si existen registros duplicados.\n",
    "\n",
    "- Comprobaremos si la cantidad de viajes y la cantidad promedio para barrios de Chicago presentan solo valores positivos."
   ]
  },
  {
   "cell_type": "markdown",
   "metadata": {},
   "source": [
    "## Preprocesamiento de datos"
   ]
  },
  {
   "cell_type": "markdown",
   "metadata": {},
   "source": [
    "Resolveremos los pocos problemas que observamos en nuestros dos dataset. El preprocesamiento se realizará en el siguiente orden:\n",
    "\n",
    "    1. Correción del tipo de datos.\n",
    "    2. Verificación de duplicados implícitos.\n",
    "    3. Registros duplicados.\n",
    "    4. Comprobación de valores en cantidad de viajes."
   ]
  },
  {
   "cell_type": "markdown",
   "metadata": {},
   "source": [
    "### Corrección en tipo de datos"
   ]
  },
  {
   "cell_type": "markdown",
   "metadata": {},
   "source": [
    "Primero, trabajaremos en el segundo dataset, referido a los barrios de Chicago y los promedios de viajes. Redondearemos el promedio de viajes hacia abajo cambiando el tipo de datos a int64 con el método astype; lo mismo será aplicado con los segundos en el tercer dataset."
   ]
  },
  {
   "cell_type": "code",
   "execution_count": 12,
   "metadata": {
    "scrolled": true
   },
   "outputs": [
    {
     "data": {
      "text/plain": [
       "0     10727\n",
       "1      9523\n",
       "2      6664\n",
       "3      5163\n",
       "4      2546\n",
       "      ...  \n",
       "89        3\n",
       "90        3\n",
       "91        2\n",
       "92        1\n",
       "93        1\n",
       "Name: average_trips, Length: 94, dtype: int64"
      ]
     },
     "execution_count": 12,
     "metadata": {},
     "output_type": "execute_result"
    }
   ],
   "source": [
    "# Cambiamos el tipo de datos de toda la columna\n",
    "zuber_sql_result_04['average_trips'] = zuber_sql_result_04['average_trips'].astype('int')\n",
    "# Vemos como quedan los valores\n",
    "zuber_sql_result_04['average_trips']"
   ]
  },
  {
   "cell_type": "markdown",
   "metadata": {},
   "source": [
    "Cambio de segundos a tipo entero en tercer dataset:"
   ]
  },
  {
   "cell_type": "code",
   "execution_count": 13,
   "metadata": {
    "scrolled": true
   },
   "outputs": [
    {
     "data": {
      "text/plain": [
       "0       2410\n",
       "1       1920\n",
       "2       1543\n",
       "3       2512\n",
       "4       1440\n",
       "        ... \n",
       "1063       0\n",
       "1064    1318\n",
       "1065    2100\n",
       "1066    1380\n",
       "1067    2834\n",
       "Name: duration_seconds, Length: 1068, dtype: int64"
      ]
     },
     "execution_count": 13,
     "metadata": {},
     "output_type": "execute_result"
    }
   ],
   "source": [
    "# Cambiamos el tipo de datos de toda la columna\n",
    "zuber_sql_result_07['duration_seconds'] = zuber_sql_result_07['duration_seconds'].astype('int')\n",
    "# Vemos como quedan los valores\n",
    "zuber_sql_result_07['duration_seconds']"
   ]
  },
  {
   "cell_type": "markdown",
   "metadata": {},
   "source": [
    "**Ahora, cambiamos el tipo de datos la fecha de *start_ts* en el tercer dataset:**"
   ]
  },
  {
   "cell_type": "code",
   "execution_count": 14,
   "metadata": {
    "scrolled": true
   },
   "outputs": [
    {
     "data": {
      "text/plain": [
       "0    2017-11-25 16:00:00\n",
       "1    2017-11-25 14:00:00\n",
       "2    2017-11-25 12:00:00\n",
       "3    2017-11-04 10:00:00\n",
       "4    2017-11-11 07:00:00\n",
       "Name: start_ts, dtype: object"
      ]
     },
     "execution_count": 14,
     "metadata": {},
     "output_type": "execute_result"
    }
   ],
   "source": [
    "# Vemos la estructura de los datos de la columna start_ts\n",
    "zuber_sql_result_07['start_ts'].head()"
   ]
  },
  {
   "cell_type": "code",
   "execution_count": 15,
   "metadata": {},
   "outputs": [],
   "source": [
    "# cambiamos los datos a tipo datetime\n",
    "zuber_sql_result_07['start_ts'] = pd.to_datetime(zuber_sql_result_07['start_ts'], format='%Y-%m-%d %H:%M:%S')"
   ]
  },
  {
   "cell_type": "markdown",
   "metadata": {},
   "source": [
    "### Verificación de duplicados implícitos"
   ]
  },
  {
   "cell_type": "markdown",
   "metadata": {},
   "source": [
    "Primero comprobaremos en el primer dataset la columna *company_name*:"
   ]
  },
  {
   "cell_type": "markdown",
   "metadata": {},
   "source": [
    "Revisamos los nombres de las compañías de taxis a simple vista para ver si existe algún duplicado debido a un error de escritura."
   ]
  },
  {
   "cell_type": "code",
   "execution_count": 16,
   "metadata": {},
   "outputs": [
    {
     "data": {
      "text/plain": [
       "array(['0118 - 42111 Godfrey S. Awir', '1085 - 72312 N and W Cab Co',\n",
       "       '1469 - 64126 Omar Jada', '2092 - 61288 Sbeih Company',\n",
       "       '2192 - 73487 Zeymane Corp', '2241 - 44667 - Felman Corp',\n",
       "       '24 Seven Taxi', '2733 - 74600 Benny Jona',\n",
       "       '2809 - 95474 C & D Cab Co Inc.', '2823 - 73307 Lee Express Inc',\n",
       "       '3011 - 66308 JBL Cab Inc.', '303 Taxi',\n",
       "       '3556 - 36214 RC Andrews Cab', '3591 - 63480 Chuks Cab',\n",
       "       '3620 - 52292 David K. Cab Corp.',\n",
       "       '3623 - 72222 Arrington Enterprises', '3721 - Santamaria Express',\n",
       "       '4053 - 40193 Adwar H. Nikola', '4615 - 83503 Tyrone Henderson',\n",
       "       '4623 - 27290 Jay Kim', '5 Star Taxi', '5006 - 39261 Salifu Bawa',\n",
       "       '5062 - 34841 Sam Mestas', '5074 - 54002 Ahzmi Inc',\n",
       "       '5874 - 73628 Sergey Cab Corp.', '5997 - 65283 AW Services Inc.',\n",
       "       '6057 - 24657 Richard Addo', '6574 - Babylon Express Inc.',\n",
       "       '6742 - 83735 Tasha Ride Inc', '6743 - 78771 Luhak Corp',\n",
       "       'American United', 'American United Taxi Affiliation',\n",
       "       'Blue Diamond', 'Blue Ribbon Taxi Association Inc.',\n",
       "       'Checker Taxi', 'Checker Taxi Affiliation',\n",
       "       'Chicago Carriage Cab Corp', 'Chicago Independents',\n",
       "       'Chicago Medallion Leasing INC', 'Chicago Medallion Management',\n",
       "       'Chicago Star Taxicab', 'Chicago Taxicab',\n",
       "       'Choice Taxi Association', 'City Service',\n",
       "       'Dispatch Taxi Affiliation', 'Flash Cab', 'Globe Taxi',\n",
       "       'Gold Coast Taxi', 'KOAM Taxi Association', 'Leonard Cab Co',\n",
       "       'Medallion Leasing', 'Metro Group', 'Metro Jet Taxi A',\n",
       "       'Norshore Cab', 'Nova Taxi Affiliation Llc',\n",
       "       'Patriot Taxi Dba Peace Taxi Association',\n",
       "       'Service Taxi Association', 'Setare Inc',\n",
       "       'Star North Management LLC', 'Sun Taxi',\n",
       "       'Taxi Affiliation Service Yellow', 'Taxi Affiliation Services',\n",
       "       'Top Cab Affiliation', 'Yellow Cab'], dtype=object)"
      ]
     },
     "execution_count": 16,
     "metadata": {},
     "output_type": "execute_result"
    }
   ],
   "source": [
    "# Nombres únicos ordenados por abecedario\n",
    "zuber_sql_result_01['company_name'].sort_values().unique()"
   ]
  },
  {
   "cell_type": "code",
   "execution_count": 17,
   "metadata": {},
   "outputs": [
    {
     "data": {
      "text/plain": [
       "64"
      ]
     },
     "execution_count": 17,
     "metadata": {},
     "output_type": "execute_result"
    }
   ],
   "source": [
    "# Comprobamos la cantidad de nombres únicos\n",
    "zuber_sql_result_01['company_name'].nunique()"
   ]
  },
  {
   "cell_type": "markdown",
   "metadata": {},
   "source": [
    "Tenemos 64 nombres únicos, por lo tanto, coincide con el total de registros para la columna. No existen nombres de empresas duplicadas."
   ]
  },
  {
   "cell_type": "markdown",
   "metadata": {},
   "source": [
    "**Ahora, comprobamos la columna *dropoff_location_name* en el segundo dataset:**\n"
   ]
  },
  {
   "cell_type": "markdown",
   "metadata": {},
   "source": [
    "Revisamos los nombres de los barrios de Chicago a simple vista para detectar algún duplicado por error de escritura."
   ]
  },
  {
   "cell_type": "code",
   "execution_count": 18,
   "metadata": {},
   "outputs": [
    {
     "data": {
      "text/plain": [
       "array(['Albany Park', 'Andersonville', 'Archer Heights', 'Armour Square',\n",
       "       'Ashburn', 'Auburn Gresham', 'Austin', 'Avalon Park', 'Avondale',\n",
       "       'Belmont Cragin', 'Beverly', 'Boystown', 'Bridgeport',\n",
       "       'Brighton Park', 'Bucktown', 'Burnside', 'Calumet Heights',\n",
       "       'Chatham', 'Chicago Lawn', 'Chinatown', 'Clearing', 'Douglas',\n",
       "       'Dunning', 'East Side', 'East Village', 'Edgewater', 'Edison Park',\n",
       "       'Englewood', 'Fuller Park', 'Gage Park', 'Garfield Park',\n",
       "       'Garfield Ridge', 'Gold Coast', 'Grand Boulevard',\n",
       "       'Grand Crossing', 'Grant Park', 'Hegewisch', 'Hermosa',\n",
       "       'Humboldt Park', 'Hyde Park', 'Irving Park', 'Jackson Park',\n",
       "       'Jefferson Park', 'Kenwood', 'Lake View', 'Lincoln Park',\n",
       "       'Lincoln Square', 'Little Italy, UIC', 'Little Village',\n",
       "       'Logan Square', 'Loop', 'Lower West Side', 'Mckinley Park',\n",
       "       'Montclare', 'Morgan Park', 'Mount Greenwood', 'Museum Campus',\n",
       "       'Near South Side', 'New City', 'North Center', 'North Lawndale',\n",
       "       'North Park', 'Norwood Park', \"O'Hare\", 'Oakland', 'Old Town',\n",
       "       'Portage Park', 'Pullman', 'River North', 'Riverdale',\n",
       "       'Rogers Park', 'Roseland', 'Rush & Division',\n",
       "       'Sauganash,Forest Glen', 'Sheffield & DePaul', 'South Chicago',\n",
       "       'South Deering', 'South Shore', 'Streeterville',\n",
       "       'Ukrainian Village', 'Undef', 'United Center', 'Uptown',\n",
       "       'Washington Heights', 'Washington Park', 'West Elsdon',\n",
       "       'West Lawn', 'West Loop', 'West Pullman', 'West Ridge',\n",
       "       'West Town', 'Wicker Park', 'Woodlawn', 'Wrigleyville'],\n",
       "      dtype=object)"
      ]
     },
     "execution_count": 18,
     "metadata": {},
     "output_type": "execute_result"
    }
   ],
   "source": [
    "# Nombres únicos ordenados por abecedario\n",
    "zuber_sql_result_04['dropoff_location_name'].sort_values().unique()"
   ]
  },
  {
   "cell_type": "code",
   "execution_count": 19,
   "metadata": {},
   "outputs": [
    {
     "data": {
      "text/plain": [
       "94"
      ]
     },
     "execution_count": 19,
     "metadata": {},
     "output_type": "execute_result"
    }
   ],
   "source": [
    "# Comprobamos la cantidad de nombres únicos\n",
    "zuber_sql_result_04['dropoff_location_name'].nunique()"
   ]
  },
  {
   "cell_type": "markdown",
   "metadata": {},
   "source": [
    "Tenemos 94 nombres único correspondientes a los barrios de Chicago, los cuales coinciden con el total de datos para la columna. No existen nombres de barrios duplicados."
   ]
  },
  {
   "cell_type": "markdown",
   "metadata": {},
   "source": [
    "**Ahora, comprobamos la columna *weather_conditions* en el tercer dataset:**"
   ]
  },
  {
   "cell_type": "code",
   "execution_count": 20,
   "metadata": {},
   "outputs": [
    {
     "data": {
      "text/plain": [
       "array(['Bad', 'Good'], dtype=object)"
      ]
     },
     "execution_count": 20,
     "metadata": {},
     "output_type": "execute_result"
    }
   ],
   "source": [
    "# Nombres únicos ordenados por abecedario\n",
    "zuber_sql_result_07['weather_conditions'].sort_values().unique()"
   ]
  },
  {
   "cell_type": "markdown",
   "metadata": {},
   "source": [
    "Solo tenemos dos valores, \"Bad\" y \"Good\"."
   ]
  },
  {
   "cell_type": "markdown",
   "metadata": {},
   "source": [
    "### Registros duplicados"
   ]
  },
  {
   "cell_type": "markdown",
   "metadata": {},
   "source": [
    "Comprobaremos que ambos dataset no presenten registros duplicados."
   ]
  },
  {
   "cell_type": "code",
   "execution_count": 21,
   "metadata": {},
   "outputs": [
    {
     "data": {
      "text/plain": [
       "0"
      ]
     },
     "execution_count": 21,
     "metadata": {},
     "output_type": "execute_result"
    }
   ],
   "source": [
    "# Registros duplicados en primer dataset\n",
    "zuber_sql_result_01.duplicated().sum()"
   ]
  },
  {
   "cell_type": "code",
   "execution_count": 22,
   "metadata": {},
   "outputs": [
    {
     "data": {
      "text/plain": [
       "0"
      ]
     },
     "execution_count": 22,
     "metadata": {},
     "output_type": "execute_result"
    }
   ],
   "source": [
    "# Registros duplicados en segundo dataset\n",
    "zuber_sql_result_04.duplicated().sum()"
   ]
  },
  {
   "cell_type": "code",
   "execution_count": 23,
   "metadata": {
    "scrolled": true
   },
   "outputs": [
    {
     "data": {
      "text/plain": [
       "197"
      ]
     },
     "execution_count": 23,
     "metadata": {},
     "output_type": "execute_result"
    }
   ],
   "source": [
    "# Registros duplicados en tercer dataset\n",
    "zuber_sql_result_07.duplicated().sum()"
   ]
  },
  {
   "cell_type": "markdown",
   "metadata": {},
   "source": [
    "**Tenemos 197 registros duplicados en el tercer dataset. Considerando las características de los datos, es posible que se presenten registros similares. Tenemos 1068 registros con datos de: fecha y hora de salida, condición climática y tiempo de duración del viaje desde el barrio \"Loop\" hasta el aeropuerto de Chicago. Si se repite la fecha y hora, es muy probable que la condición climática sea la misma; y si consideramos que es para un trayecto fijo, también existe una probabilidad de que los tiempos de duración se repitan. Por lo tanto, no eliminaremos estos registros duplicados.**"
   ]
  },
  {
   "cell_type": "markdown",
   "metadata": {},
   "source": [
    "### Comprobación de valores "
   ]
  },
  {
   "cell_type": "markdown",
   "metadata": {},
   "source": [
    "Usaremos el método *describe* para observar los valores mínimos y máximos en las columnas *trips_amount* para el primer dataset y *average_trips* para el segundo."
   ]
  },
  {
   "cell_type": "markdown",
   "metadata": {},
   "source": [
    "#### Viajes para cada compañía de taxis - Primer dataset"
   ]
  },
  {
   "cell_type": "code",
   "execution_count": 24,
   "metadata": {
    "scrolled": true
   },
   "outputs": [
    {
     "data": {
      "text/plain": [
       "count       64.000000\n",
       "mean      2145.484375\n",
       "std       3812.310186\n",
       "min          2.000000\n",
       "25%         20.750000\n",
       "50%        178.500000\n",
       "75%       2106.500000\n",
       "max      19558.000000\n",
       "Name: trips_amount, dtype: float64"
      ]
     },
     "execution_count": 24,
     "metadata": {},
     "output_type": "execute_result"
    }
   ],
   "source": [
    "# Cantidades en viajes para cada compañía de taxis\n",
    "zuber_sql_result_01['trips_amount'].describe()"
   ]
  },
  {
   "cell_type": "markdown",
   "metadata": {},
   "source": [
    "De las 64 compañías, tenemos que el mínimo de viaje es de 2 y el máximo es de 19558. Una diferencia cuantiosa considerando que la mediana es de aproximadamente 178 viajes por compañía. Observaremos todo esto con más calma en el análisis propiamente tal de los datos.\n",
    "\n",
    "*A considerar que la cantidad de viajes es solo para los días 15 y 16 de noviembre del año 2017.*"
   ]
  },
  {
   "cell_type": "markdown",
   "metadata": {},
   "source": [
    "#### Promedio de viajes para distintos barrios de Chicago - Segundo dataset"
   ]
  },
  {
   "cell_type": "code",
   "execution_count": 25,
   "metadata": {},
   "outputs": [
    {
     "data": {
      "text/plain": [
       "count       94.000000\n",
       "mean       599.478723\n",
       "std       1714.555974\n",
       "min          1.000000\n",
       "25%         14.000000\n",
       "50%         51.500000\n",
       "75%        298.750000\n",
       "max      10727.000000\n",
       "Name: average_trips, dtype: float64"
      ]
     },
     "execution_count": 25,
     "metadata": {},
     "output_type": "execute_result"
    }
   ],
   "source": [
    "# Cantidades en viajes para cada compañía de taxis\n",
    "zuber_sql_result_04['average_trips'].describe()"
   ]
  },
  {
   "cell_type": "markdown",
   "metadata": {},
   "source": [
    "Tenemos 94 barrios distintos de chicago en los que finalizaron viajes. La cantidad de viajes finalizado mínima por barrio fue de 1 y la máxima de 10727. La mediana es de 51 viajes aproximadamente para cada barrio.\n",
    "\n",
    "*Los viajes fueron efectuados en el mes de noviembre del año 2017.*"
   ]
  },
  {
   "cell_type": "markdown",
   "metadata": {},
   "source": [
    "#### Tiempo de duración hasta el aeropuerto - Tercer dataset"
   ]
  },
  {
   "cell_type": "code",
   "execution_count": 26,
   "metadata": {
    "scrolled": true
   },
   "outputs": [
    {
     "data": {
      "text/plain": [
       "count    1068.000000\n",
       "mean     2071.731273\n",
       "std       769.461125\n",
       "min         0.000000\n",
       "25%      1438.250000\n",
       "50%      1980.000000\n",
       "75%      2580.000000\n",
       "max      7440.000000\n",
       "Name: duration_seconds, dtype: float64"
      ]
     },
     "execution_count": 26,
     "metadata": {},
     "output_type": "execute_result"
    }
   ],
   "source": [
    "zuber_sql_result_07['duration_seconds'].describe()"
   ]
  },
  {
   "cell_type": "markdown",
   "metadata": {},
   "source": [
    "Tenemos un registro con 0 segundos el cual deberíamos eliminar de nuestros datos. Revisaremos los 15 valores más bajos:"
   ]
  },
  {
   "cell_type": "code",
   "execution_count": 27,
   "metadata": {
    "scrolled": true
   },
   "outputs": [
    {
     "data": {
      "text/plain": [
       "879     1080\n",
       "237     1074\n",
       "713     1063\n",
       "194     1020\n",
       "874     1018\n",
       "860      480\n",
       "203      480\n",
       "424      420\n",
       "15        60\n",
       "168        0\n",
       "1063       0\n",
       "552        0\n",
       "801        0\n",
       "163        0\n",
       "204        0\n",
       "Name: duration_seconds, dtype: int64"
      ]
     },
     "execution_count": 27,
     "metadata": {},
     "output_type": "execute_result"
    }
   ],
   "source": [
    "# Vemos los 15 valores más bajos de duración de viaje en segundos\n",
    "zuber_sql_result_07['duration_seconds'].sort_values(ascending=False).tail(15)"
   ]
  },
  {
   "cell_type": "markdown",
   "metadata": {},
   "source": [
    "Tenemos el índice del registro acompañado de la duración en segundos. A partir de los 420 segundos parece un valor más razonable, considerando que igual son valores bajos considerando la mediana de 1980 segundos y un primer cuartil que se acerca a los 1438 segundos. \n",
    "\n",
    "Eliminaremos los registros que tardan menos de 1 minuto y guardaremos los datos limpios en una nueva variable."
   ]
  },
  {
   "cell_type": "code",
   "execution_count": 28,
   "metadata": {
    "scrolled": true
   },
   "outputs": [
    {
     "data": {
      "text/plain": [
       "start_ts              1061\n",
       "weather_conditions    1061\n",
       "duration_seconds      1061\n",
       "dtype: int64"
      ]
     },
     "execution_count": 28,
     "metadata": {},
     "output_type": "execute_result"
    }
   ],
   "source": [
    "# Creamos un nuevo dataframe\n",
    "new_zuber_sql_result_07 = zuber_sql_result_07.query('duration_seconds > 60')\n",
    "\n",
    "# Vemos la cantidad de datos en nuestra nueva tabla\n",
    "new_zuber_sql_result_07.count()"
   ]
  },
  {
   "cell_type": "markdown",
   "metadata": {},
   "source": [
    "Perfecto, ya hemos eliminado los 7 registros con duraciones muy bajas."
   ]
  },
  {
   "cell_type": "markdown",
   "metadata": {},
   "source": [
    "### Conclusiones del preprocesamiento de datos"
   ]
  },
  {
   "cell_type": "markdown",
   "metadata": {},
   "source": [
    "Los primeros dos dataset presentan datos ordenados y sin presencia de registros duplicados. \n",
    "\n",
    "- Se realizó una comprobación para verificar duplicados implícitos en los nombres de las compañías y en los nombres de los barrios de Chicago. Ambos presentaron información limpia respecto a esto.\n",
    "\n",
    "\n",
    "- Se corrigió el tipo de datos para el dataset *zuber_sql_result_04* en su columna *average_trips*. El tipo de datos se cambió a int64 dado que la cantidad de viajes tiene que expresarse en valores enteros.\n",
    "\n",
    "\n",
    "- Los valores mínimos y máximos para la cantidad de viajes de cada compañía y viajes concluídos en cada barrio presentan valores razonables. Si bien, parecen muy distantes entre si (considerando una media bastante más baja que la cantidad máxima), esto se analizará en la siguiente sección.\n",
    "\n",
    "Respecto al tercer dataset:\n",
    "\n",
    "- Se cambiaron los siguientes tipos de datos:\n",
    "    - start_ts: de object a datetime\n",
    "    - duration_seconds: de float a int. \n",
    "    \n",
    "    \n",
    "- Se eliminaron 7 registros que presentan una duración de viajes muy baja.\n",
    "\n",
    "- Se encontraron 197 registros duplicados. No se eliminaron ya que debido a la naturaleza de los datos, es probable que se puedan repetir los registros."
   ]
  },
  {
   "cell_type": "markdown",
   "metadata": {},
   "source": [
    "## Análisis de datos"
   ]
  },
  {
   "cell_type": "markdown",
   "metadata": {},
   "source": [
    "Tenemos dos tablas a analizar: \n",
    "\n",
    "    1. Empresas de taxis con la cantidad de viajes realizados (zuber_sql_result_01).\n",
    "    2. Barrios de chicago con la cantidad promedio de viajes finalizados en cada uno (zuber_sql_result_04).\n",
    "    \n",
    "Previo al análisis, plantearemos algunas interrogantes que serán resueltas en el desarrollo de este mismo. Estas preguntas estarán dirigidas a la información que poseemos en cada dataset y nos ayudarán  a dirigir nuestro aprendizaje y estudio de los datos."
   ]
  },
  {
   "cell_type": "markdown",
   "metadata": {},
   "source": [
    "### Planteamiento de interrogantes"
   ]
  },
  {
   "cell_type": "markdown",
   "metadata": {},
   "source": [
    "#### Dataset 1: Empresas de taxis y cantidad de viajes realizados."
   ]
  },
  {
   "cell_type": "markdown",
   "metadata": {},
   "source": [
    "Un punto importante a considerar es que la **cantidad de viajes realizados es en base a dos días: 15 y 16 de noviembre del año 2017.** Con esto, tenemos que la cantidad de viajes total para cada compañía está agrupada en dos días.\n",
    "\n",
    "\n",
    "Además, debemos recordar que **el propósito de nuestra investigación es comprender las preferencias de los pasajeros en los viajes.**\n",
    "\n",
    "Teniendo esto claro, nos hacemos las siguientes preguntas:\n",
    " - ¿Cuál es la cantidad de viajes total para estos dos días?\n",
    " - ¿Cuáles son las compañías de taxis más populares?\n",
    " - ¿Cuál es el promedio diario de viajes para las compañías más populares?\n",
    " - ¿Es muy grande la diferencia en cantidad de viajes de las compañías más populares respecto de la media de todas las compañías?\n",
    " - ¿Cuál es el porcentaje de participación de cada compañía para los viajes en estos dos días?\n",
    " - ¿Se puede inferir información adicional mediante el nombre de las compañías y sus cantidades de viajes?"
   ]
  },
  {
   "cell_type": "markdown",
   "metadata": {},
   "source": [
    "#### Dataset 2: Barrios de Chicago y cantidad de viajes concluídos en cada uno."
   ]
  },
  {
   "cell_type": "markdown",
   "metadata": {},
   "source": [
    "Debemos recordar que esta información **considera todo el mes de Noviembre**, a diferencia del dataset anterior que solo considera dos días.\n",
    "\n",
    "Planteamos las siguientes preguntas:\n",
    "- ¿Cuál es el total de viajes en Chicago para Noviembre?\n",
    "- ¿Cuál es el promedio diario para toda la ciudad y para cada barrio?\n",
    "- ¿Cuales son los principales barrios de destino?\n",
    "- ¿Existe una diferencia muy grande en la cantidad de viajes para los destinos más visitados respecto a la media?\n",
    "- ¿Qué información adicional podríamos agregar para entender la preferencia de los clientes?"
   ]
  },
  {
   "cell_type": "markdown",
   "metadata": {},
   "source": [
    "Las preguntas planteadas para los dataset nos servirán de base para explorar en la información recopilada. Ahora, procedemos a responderlas."
   ]
  },
  {
   "cell_type": "markdown",
   "metadata": {},
   "source": [
    "### Compañías de taxis y viajes realizados"
   ]
  },
  {
   "cell_type": "markdown",
   "metadata": {},
   "source": [
    "#### Enriquecimiento de datos"
   ]
  },
  {
   "cell_type": "markdown",
   "metadata": {},
   "source": [
    "Por medio de las preguntas, nos dimos cuenta que podemos mejorar nuestra tabla agregando algunas columnas. Los datos que podemos agregar a partir de la cantidad de viajes, son:\n",
    "\n",
    "    - Promedio de viajes diario para cada compañía.\n",
    "    - Porcentaje de participación de la compañía.\n",
    "\n",
    "Veamos como es nuestra tabla actual:"
   ]
  },
  {
   "cell_type": "code",
   "execution_count": 29,
   "metadata": {},
   "outputs": [
    {
     "data": {
      "text/html": [
       "<div>\n",
       "<style scoped>\n",
       "    .dataframe tbody tr th:only-of-type {\n",
       "        vertical-align: middle;\n",
       "    }\n",
       "\n",
       "    .dataframe tbody tr th {\n",
       "        vertical-align: top;\n",
       "    }\n",
       "\n",
       "    .dataframe thead th {\n",
       "        text-align: right;\n",
       "    }\n",
       "</style>\n",
       "<table border=\"1\" class=\"dataframe\">\n",
       "  <thead>\n",
       "    <tr style=\"text-align: right;\">\n",
       "      <th></th>\n",
       "      <th>company_name</th>\n",
       "      <th>trips_amount</th>\n",
       "    </tr>\n",
       "  </thead>\n",
       "  <tbody>\n",
       "    <tr>\n",
       "      <th>0</th>\n",
       "      <td>Flash Cab</td>\n",
       "      <td>19558</td>\n",
       "    </tr>\n",
       "    <tr>\n",
       "      <th>1</th>\n",
       "      <td>Taxi Affiliation Services</td>\n",
       "      <td>11422</td>\n",
       "    </tr>\n",
       "    <tr>\n",
       "      <th>2</th>\n",
       "      <td>Medallion Leasing</td>\n",
       "      <td>10367</td>\n",
       "    </tr>\n",
       "    <tr>\n",
       "      <th>3</th>\n",
       "      <td>Yellow Cab</td>\n",
       "      <td>9888</td>\n",
       "    </tr>\n",
       "    <tr>\n",
       "      <th>4</th>\n",
       "      <td>Taxi Affiliation Service Yellow</td>\n",
       "      <td>9299</td>\n",
       "    </tr>\n",
       "  </tbody>\n",
       "</table>\n",
       "</div>"
      ],
      "text/plain": [
       "                      company_name  trips_amount\n",
       "0                        Flash Cab         19558\n",
       "1        Taxi Affiliation Services         11422\n",
       "2                Medallion Leasing         10367\n",
       "3                       Yellow Cab          9888\n",
       "4  Taxi Affiliation Service Yellow          9299"
      ]
     },
     "execution_count": 29,
     "metadata": {},
     "output_type": "execute_result"
    }
   ],
   "source": [
    "# Mostramos los cinco primeros valores\n",
    "zuber_sql_result_01.head(5)"
   ]
  },
  {
   "cell_type": "code",
   "execution_count": 30,
   "metadata": {},
   "outputs": [
    {
     "data": {
      "text/html": [
       "<div>\n",
       "<style scoped>\n",
       "    .dataframe tbody tr th:only-of-type {\n",
       "        vertical-align: middle;\n",
       "    }\n",
       "\n",
       "    .dataframe tbody tr th {\n",
       "        vertical-align: top;\n",
       "    }\n",
       "\n",
       "    .dataframe thead th {\n",
       "        text-align: right;\n",
       "    }\n",
       "</style>\n",
       "<table border=\"1\" class=\"dataframe\">\n",
       "  <thead>\n",
       "    <tr style=\"text-align: right;\">\n",
       "      <th></th>\n",
       "      <th>company_name</th>\n",
       "      <th>trips_amount</th>\n",
       "      <th>daily_trips</th>\n",
       "    </tr>\n",
       "  </thead>\n",
       "  <tbody>\n",
       "    <tr>\n",
       "      <th>0</th>\n",
       "      <td>Flash Cab</td>\n",
       "      <td>19558</td>\n",
       "      <td>9779</td>\n",
       "    </tr>\n",
       "    <tr>\n",
       "      <th>1</th>\n",
       "      <td>Taxi Affiliation Services</td>\n",
       "      <td>11422</td>\n",
       "      <td>5711</td>\n",
       "    </tr>\n",
       "    <tr>\n",
       "      <th>2</th>\n",
       "      <td>Medallion Leasing</td>\n",
       "      <td>10367</td>\n",
       "      <td>5183</td>\n",
       "    </tr>\n",
       "    <tr>\n",
       "      <th>3</th>\n",
       "      <td>Yellow Cab</td>\n",
       "      <td>9888</td>\n",
       "      <td>4944</td>\n",
       "    </tr>\n",
       "    <tr>\n",
       "      <th>4</th>\n",
       "      <td>Taxi Affiliation Service Yellow</td>\n",
       "      <td>9299</td>\n",
       "      <td>4649</td>\n",
       "    </tr>\n",
       "  </tbody>\n",
       "</table>\n",
       "</div>"
      ],
      "text/plain": [
       "                      company_name  trips_amount  daily_trips\n",
       "0                        Flash Cab         19558         9779\n",
       "1        Taxi Affiliation Services         11422         5711\n",
       "2                Medallion Leasing         10367         5183\n",
       "3                       Yellow Cab          9888         4944\n",
       "4  Taxi Affiliation Service Yellow          9299         4649"
      ]
     },
     "execution_count": 30,
     "metadata": {},
     "output_type": "execute_result"
    }
   ],
   "source": [
    "# Creamos la columna 'daily_trips' para señalar los viajes diarios\n",
    "zuber_sql_result_01['daily_trips'] = np.floor(zuber_sql_result_01['trips_amount'] / 2)\n",
    "\n",
    "# Cambiamos el tipo de datos\n",
    "zuber_sql_result_01['daily_trips'] = zuber_sql_result_01['daily_trips'].astype('int')\n",
    "\n",
    "# Visualizamos la tabla\n",
    "zuber_sql_result_01.head(5)"
   ]
  },
  {
   "cell_type": "markdown",
   "metadata": {},
   "source": [
    "Ya tenemos la cantidad de viajes diarios para cada compañía, **bajo la suposición de que el 15 de noviembre tuvo la misma cantidad de viajes que el 16 de noviembre.**\n",
    "\n",
    "Ahora agregamos una columna para tener el porcentaje de participación de cada compañía:"
   ]
  },
  {
   "cell_type": "code",
   "execution_count": 31,
   "metadata": {},
   "outputs": [
    {
     "data": {
      "text/html": [
       "<div>\n",
       "<style scoped>\n",
       "    .dataframe tbody tr th:only-of-type {\n",
       "        vertical-align: middle;\n",
       "    }\n",
       "\n",
       "    .dataframe tbody tr th {\n",
       "        vertical-align: top;\n",
       "    }\n",
       "\n",
       "    .dataframe thead th {\n",
       "        text-align: right;\n",
       "    }\n",
       "</style>\n",
       "<table border=\"1\" class=\"dataframe\">\n",
       "  <thead>\n",
       "    <tr style=\"text-align: right;\">\n",
       "      <th></th>\n",
       "      <th>company_name</th>\n",
       "      <th>trips_amount</th>\n",
       "      <th>daily_trips</th>\n",
       "      <th>percent</th>\n",
       "    </tr>\n",
       "  </thead>\n",
       "  <tbody>\n",
       "    <tr>\n",
       "      <th>0</th>\n",
       "      <td>Flash Cab</td>\n",
       "      <td>19558</td>\n",
       "      <td>9779</td>\n",
       "      <td>14.24</td>\n",
       "    </tr>\n",
       "    <tr>\n",
       "      <th>1</th>\n",
       "      <td>Taxi Affiliation Services</td>\n",
       "      <td>11422</td>\n",
       "      <td>5711</td>\n",
       "      <td>8.32</td>\n",
       "    </tr>\n",
       "    <tr>\n",
       "      <th>2</th>\n",
       "      <td>Medallion Leasing</td>\n",
       "      <td>10367</td>\n",
       "      <td>5183</td>\n",
       "      <td>7.55</td>\n",
       "    </tr>\n",
       "    <tr>\n",
       "      <th>3</th>\n",
       "      <td>Yellow Cab</td>\n",
       "      <td>9888</td>\n",
       "      <td>4944</td>\n",
       "      <td>7.20</td>\n",
       "    </tr>\n",
       "    <tr>\n",
       "      <th>4</th>\n",
       "      <td>Taxi Affiliation Service Yellow</td>\n",
       "      <td>9299</td>\n",
       "      <td>4649</td>\n",
       "      <td>6.77</td>\n",
       "    </tr>\n",
       "  </tbody>\n",
       "</table>\n",
       "</div>"
      ],
      "text/plain": [
       "                      company_name  trips_amount  daily_trips  percent\n",
       "0                        Flash Cab         19558         9779    14.24\n",
       "1        Taxi Affiliation Services         11422         5711     8.32\n",
       "2                Medallion Leasing         10367         5183     7.55\n",
       "3                       Yellow Cab          9888         4944     7.20\n",
       "4  Taxi Affiliation Service Yellow          9299         4649     6.77"
      ]
     },
     "execution_count": 31,
     "metadata": {},
     "output_type": "execute_result"
    }
   ],
   "source": [
    "# Creamos la nueva columna 'percent'\n",
    "zuber_sql_result_01['percent'] = (zuber_sql_result_01['trips_amount'] / zuber_sql_result_01['trips_amount'].sum()) * 100\n",
    "# Redondeamos a dos decimales\n",
    "zuber_sql_result_01['percent'] = round(zuber_sql_result_01['percent'], 2)\n",
    "# Mostramos como queda la tabla\n",
    "zuber_sql_result_01.head(5)"
   ]
  },
  {
   "cell_type": "markdown",
   "metadata": {},
   "source": [
    "#### Compañías de viajes más populares"
   ]
  },
  {
   "cell_type": "markdown",
   "metadata": {},
   "source": [
    "Comenzamos desde el punto que nuestro dataset contiene **64 compañías de taxis**.\n",
    "\n",
    "Primero, vamos a observar la cantidad total de viajes para el 15 y 16 de noviembre del 2017 en estas 64 compañías."
   ]
  },
  {
   "cell_type": "code",
   "execution_count": 32,
   "metadata": {},
   "outputs": [
    {
     "data": {
      "text/plain": [
       "137311"
      ]
     },
     "execution_count": 32,
     "metadata": {},
     "output_type": "execute_result"
    }
   ],
   "source": [
    "# Cantidad de viajes total\n",
    "zuber_sql_result_01['trips_amount'].sum()"
   ]
  },
  {
   "cell_type": "markdown",
   "metadata": {},
   "source": [
    "Para estos dos días de noviembre hubo **137 mil viajes aproximadamente.** Veamos ahora cuales fueron las compañías con mayor representación."
   ]
  },
  {
   "cell_type": "code",
   "execution_count": 33,
   "metadata": {
    "scrolled": true
   },
   "outputs": [
    {
     "data": {
      "text/html": [
       "<div>\n",
       "<style scoped>\n",
       "    .dataframe tbody tr th:only-of-type {\n",
       "        vertical-align: middle;\n",
       "    }\n",
       "\n",
       "    .dataframe tbody tr th {\n",
       "        vertical-align: top;\n",
       "    }\n",
       "\n",
       "    .dataframe thead th {\n",
       "        text-align: right;\n",
       "    }\n",
       "</style>\n",
       "<table border=\"1\" class=\"dataframe\">\n",
       "  <thead>\n",
       "    <tr style=\"text-align: right;\">\n",
       "      <th></th>\n",
       "      <th>company_name</th>\n",
       "      <th>trips_amount</th>\n",
       "      <th>daily_trips</th>\n",
       "      <th>percent</th>\n",
       "    </tr>\n",
       "  </thead>\n",
       "  <tbody>\n",
       "    <tr>\n",
       "      <th>0</th>\n",
       "      <td>Flash Cab</td>\n",
       "      <td>19558</td>\n",
       "      <td>9779</td>\n",
       "      <td>14.24</td>\n",
       "    </tr>\n",
       "    <tr>\n",
       "      <th>1</th>\n",
       "      <td>Taxi Affiliation Services</td>\n",
       "      <td>11422</td>\n",
       "      <td>5711</td>\n",
       "      <td>8.32</td>\n",
       "    </tr>\n",
       "    <tr>\n",
       "      <th>2</th>\n",
       "      <td>Medallion Leasing</td>\n",
       "      <td>10367</td>\n",
       "      <td>5183</td>\n",
       "      <td>7.55</td>\n",
       "    </tr>\n",
       "    <tr>\n",
       "      <th>3</th>\n",
       "      <td>Yellow Cab</td>\n",
       "      <td>9888</td>\n",
       "      <td>4944</td>\n",
       "      <td>7.20</td>\n",
       "    </tr>\n",
       "    <tr>\n",
       "      <th>4</th>\n",
       "      <td>Taxi Affiliation Service Yellow</td>\n",
       "      <td>9299</td>\n",
       "      <td>4649</td>\n",
       "      <td>6.77</td>\n",
       "    </tr>\n",
       "    <tr>\n",
       "      <th>5</th>\n",
       "      <td>Chicago Carriage Cab Corp</td>\n",
       "      <td>9181</td>\n",
       "      <td>4590</td>\n",
       "      <td>6.69</td>\n",
       "    </tr>\n",
       "    <tr>\n",
       "      <th>6</th>\n",
       "      <td>City Service</td>\n",
       "      <td>8448</td>\n",
       "      <td>4224</td>\n",
       "      <td>6.15</td>\n",
       "    </tr>\n",
       "    <tr>\n",
       "      <th>7</th>\n",
       "      <td>Sun Taxi</td>\n",
       "      <td>7701</td>\n",
       "      <td>3850</td>\n",
       "      <td>5.61</td>\n",
       "    </tr>\n",
       "    <tr>\n",
       "      <th>8</th>\n",
       "      <td>Star North Management LLC</td>\n",
       "      <td>7455</td>\n",
       "      <td>3727</td>\n",
       "      <td>5.43</td>\n",
       "    </tr>\n",
       "    <tr>\n",
       "      <th>9</th>\n",
       "      <td>Blue Ribbon Taxi Association Inc.</td>\n",
       "      <td>5953</td>\n",
       "      <td>2976</td>\n",
       "      <td>4.34</td>\n",
       "    </tr>\n",
       "  </tbody>\n",
       "</table>\n",
       "</div>"
      ],
      "text/plain": [
       "                        company_name  trips_amount  daily_trips  percent\n",
       "0                          Flash Cab         19558         9779    14.24\n",
       "1          Taxi Affiliation Services         11422         5711     8.32\n",
       "2                  Medallion Leasing         10367         5183     7.55\n",
       "3                         Yellow Cab          9888         4944     7.20\n",
       "4    Taxi Affiliation Service Yellow          9299         4649     6.77\n",
       "5          Chicago Carriage Cab Corp          9181         4590     6.69\n",
       "6                       City Service          8448         4224     6.15\n",
       "7                           Sun Taxi          7701         3850     5.61\n",
       "8          Star North Management LLC          7455         3727     5.43\n",
       "9  Blue Ribbon Taxi Association Inc.          5953         2976     4.34"
      ]
     },
     "execution_count": 33,
     "metadata": {},
     "output_type": "execute_result"
    }
   ],
   "source": [
    "zuber_sql_result_01.sort_values(by= 'trips_amount', ascending=False).head(10)"
   ]
  },
  {
   "cell_type": "markdown",
   "metadata": {},
   "source": [
    "- Flash Cab aparece en primer lugar con casi 20 mil viajes; el segundo y tercer lugar le siguen con 11 mil y 10 mil viajes aproximadamente, para luego ser seguidos por estrechos márgenes.\n",
    "- El promedio de viajes diarios para Flash Cab es de casi 10 mil, con lo que alcanza un 14% de la participación en el mercado.\n",
    "\n",
    "Veamos una representación gráfica para apreciar mejor la diferencia. Ajustaremos el gráfico solo a las 10 compañías con más viajes, de otra forma, el gráfico sería poco legible debido a la gran cantidad de compañías."
   ]
  },
  {
   "cell_type": "code",
   "execution_count": 34,
   "metadata": {},
   "outputs": [
    {
     "data": {
      "text/plain": [
       "<matplotlib.patches.Rectangle at 0x7f152c662ac0>"
      ]
     },
     "execution_count": 34,
     "metadata": {},
     "output_type": "execute_result"
    },
    {
     "data": {
      "image/png": "[encoded data removed]",
      "text/plain": [
       "<Figure size 864x504 with 1 Axes>"
      ]
     },
     "metadata": {
      "needs_background": "light"
     },
     "output_type": "display_data"
    }
   ],
   "source": [
    "# Guardamos los nombres y cantidades de los 10 mejores en nuevas variables\n",
    "top_companies = zuber_sql_result_01['company_name'].head(10)\n",
    "top_trips_amount = zuber_sql_result_01['trips_amount'].head(10)\n",
    "\n",
    "# Las ordenamos ascendentemente\n",
    "top_companies = top_companies[::-1]\n",
    "top_trips_amount = top_trips_amount.sort_values(ascending=True)\n",
    "\n",
    "# La posición de las barras que nos permitirá determinar donde serán localizadas\n",
    "y = [i * 0.9 for i in range(len(top_companies))]\n",
    "\n",
    "# Los colores que usaremos en el gráfico\n",
    "blue = \"#076fa2\"\n",
    "red = \"#E3120B\"\n",
    "grey = \"#a2a2a2\"\n",
    "\n",
    "# Nuestro gráfico de barras horizontal\n",
    "fig, ax = plt.subplots(figsize=(12, 7))\n",
    "ax.barh(y, top_trips_amount , height=0.55, align='edge', color=blue)\n",
    "\n",
    "# Escondemos las etiquetas del eje y\n",
    "ax.yaxis.set_visible(False)\n",
    "\n",
    "# Agregamos las etiquetas\n",
    "PAD = 0.3\n",
    "for companies, trips, y_pos in zip(top_companies, top_trips_amount, y):\n",
    "    ax.text(\n",
    "        PAD, y_pos + 0.5 / 2, companies, \n",
    "        color='white', fontfamily='DejaVu Sans', fontsize=14, va=\"center\",\n",
    "        path_effects=None\n",
    "    ) \n",
    "\n",
    "# Ajustamos la posición del gráfico\n",
    "fig.subplots_adjust(left=0.005, right=1, top=0.8, bottom=0.15)\n",
    "\n",
    "# Añadimos el título\n",
    "fig.text(\n",
    "    0, 0.925, \"Top 10 compañías de taxis\", \n",
    "    fontsize=18, fontweight=\"bold\", fontfamily='DejaVu Sans'\n",
    ")\n",
    "# Añadimos subtítulo\n",
    "fig.text(\n",
    "    0, 0.875, \"Cantidad de viajes realizados el 15 y 16 de noviembre del 2017\", \n",
    "    fontsize=14, fontfamily='DejaVu Sans'\n",
    ")\n",
    "\n",
    "# Leyenda bajo el gráfico\n",
    "source = \"Datos en base a cantidad de viajes de 64 compañías de taxis de Chicago.\"\n",
    "fig.text(\n",
    "    0, 0.06, source, color=grey, \n",
    "    fontsize=12, fontfamily='DejaVu Sans'\n",
    ")\n",
    "\n",
    "# Añadimos una línea y rectángulo para la presentación del gráfico\n",
    "fig.add_artist(lines.Line2D([0, 1], [1, 1], lw=3, color=red, solid_capstyle=\"butt\"))\n",
    "fig.add_artist(patches.Rectangle((0, 0.975), 0.05, 0.025, color=red))\n"
   ]
  },
  {
   "cell_type": "markdown",
   "metadata": {},
   "source": [
    "- Se produce una gran diferencia de la compañía en primer lugar, prácticamente duplica en viajes a cualquier otra.\n",
    "- A partir del segundo lugar, la competencia se estrecha y 8 compañías se mantienen en el rango sobre los 7500 viajes.\n",
    "\n",
    "Vamos a representar en un gráfico circular, como se reparten la cantidad de viajes las 5 mejores compañías:"
   ]
  },
  {
   "cell_type": "code",
   "execution_count": 35,
   "metadata": {},
   "outputs": [
    {
     "data": {
      "text/plain": [
       "Text(0.5, 0, 'En base los viajes realizados el 15 y 16 de noviembre del 2017.')"
      ]
     },
     "execution_count": 35,
     "metadata": {},
     "output_type": "execute_result"
    },
    {
     "data": {
      "image/png": "[encoded data removed]",
      "text/plain": [
       "<Figure size 288x288 with 1 Axes>"
      ]
     },
     "metadata": {},
     "output_type": "display_data"
    }
   ],
   "source": [
    "# Reasignamos el índice a los nombres de las compañías\n",
    "top_cab_companies = zuber_sql_result_01.set_index('company_name')\n",
    "\n",
    "# Creamos el gráfico circular\n",
    "top_cab_companies['trips_amount'].head().plot(kind='pie', title= 'Top 5 compañías en cantidad de viajes', \n",
    "                                              figsize=(4,4), autopct='%0.1f %%', explode=(0.1,0.1,0.1,0.1,0.1))\n",
    "\n",
    "plt.xlabel('En base los viajes realizados el 15 y 16 de noviembre del 2017.')"
   ]
  },
  {
   "cell_type": "markdown",
   "metadata": {},
   "source": [
    "Si consideráramos solo las cinco mejores compañías, esta sería su distribución porcentual. Podemos ver que a pesar de la delantera de Flah Cab, la participación de las demás compañías es bastante equitativa.\n",
    "\n",
    "Ahora, agruparemos las 59 compañías restantes que tienen una participación menor, pero que en su conjunto, representan un gran porcentaje. La incluiremos al gráfico circular y podremos apreciar la real influencia de estas cinco mejores compañías."
   ]
  },
  {
   "cell_type": "code",
   "execution_count": 36,
   "metadata": {
    "scrolled": true
   },
   "outputs": [
    {
     "data": {
      "text/plain": [
       "<AxesSubplot:title={'center':'Participación de compañías de taxis en Chicago'}, ylabel='trips_amount'>"
      ]
     },
     "execution_count": 36,
     "metadata": {},
     "output_type": "execute_result"
    },
    {
     "data": {
      "image/png": "[encoded data removed]",
      "text/plain": [
       "<Figure size 288x288 with 1 Axes>"
      ]
     },
     "metadata": {},
     "output_type": "display_data"
    }
   ],
   "source": [
    "# Creamos una copia de nuestro dataset\n",
    "grouped_companies_df = zuber_sql_result_01.copy(deep=True)\n",
    "\n",
    "# Creamos un ciclo for para atribuir la categoría \"otros\" a partír del índice 5 ( del 0 al 4 son nuestro top 5)\n",
    "for i in grouped_companies_df.index:\n",
    "    if i > 4:\n",
    "        grouped_companies_df.loc[i, 'company_name'] = 'Otros'\n",
    "\n",
    "#Graficamos agregando la suma de compañías restantes\n",
    "grouped_companies_df.groupby('company_name')['trips_amount'].sum().sort_values(ascending=False).plot(\n",
    "    kind='pie', title= 'Participación de compañías de taxis en Chicago', figsize=(4,4), autopct='%0.1f %%', \n",
    "    explode=(0.1,0.1,0.1,0.1,0.1,0.1))\n",
    "\n",
    "#plt.xlabel('En base a la cantidad de viajes realizados el 15 y 16 de noviembre del 2017.')"
   ]
  },
  {
   "cell_type": "markdown",
   "metadata": {},
   "source": [
    "- Las compañías que están fuera del Top 5, concentran un 56% de las preferencias (59 compañías de taxis); es decir, más de la mitad de los viajes se realizan en compañías que no alcanzan ni la mitad de viajes que la primera.\n",
    "- Las cuatro compañías restantes tienen valores muy cercanos entre si, manteniendose entre el 9% y 6% de preferencias totales.\n",
    "\n",
    "A pesar de la gran diferencia de Flash Cab, podemos notar que la distribución es bastante similar para las demás empresas. Esto da cuenta de la alta competitividad en este servicio.\n",
    "\n",
    "Vamos a ver en números el detalle del gráfico:"
   ]
  },
  {
   "cell_type": "code",
   "execution_count": 37,
   "metadata": {},
   "outputs": [
    {
     "data": {
      "text/plain": [
       "company_name\n",
       "Otros                              76777\n",
       "Flash Cab                          19558\n",
       "Taxi Affiliation Services          11422\n",
       "Medallion Leasing                  10367\n",
       "Yellow Cab                          9888\n",
       "Taxi Affiliation Service Yellow     9299\n",
       "Name: trips_amount, dtype: int64"
      ]
     },
     "execution_count": 37,
     "metadata": {},
     "output_type": "execute_result"
    }
   ],
   "source": [
    "# Tabla con valores\n",
    "grouped_companies_df.groupby('company_name')['trips_amount'].sum().sort_values(ascending=False)"
   ]
  },
  {
   "cell_type": "markdown",
   "metadata": {},
   "source": [
    "Casi 80 mil viajes los realizan las 59 compañías que no entran en el Top 5; es decir, Flash Cab representa poco más de la cuarta parte de la cantidad de viajes que realizan las compañías con menos viajes.\n",
    "\n",
    "Si consideramos la unión de solo dos empresas presentes en el Top 5 para hacer frente a Flash Cab, pueden llegar a igualar y hasta superar la cantidad de viajes. Lo mismo ocurre para la agrupación de compañías menores; de llegar a fusionar sus servicios, podrían alcanzar a cualquiera del top ya que en conjunto alcanzan el 56% de las preferencias."
   ]
  },
  {
   "cell_type": "markdown",
   "metadata": {},
   "source": [
    "Veamos qué tan distante se encuentra el primer lugar respecto de la media de viajes para las compañías:"
   ]
  },
  {
   "cell_type": "code",
   "execution_count": 38,
   "metadata": {},
   "outputs": [
    {
     "data": {
      "text/plain": [
       "count       64.000000\n",
       "mean      2145.484375\n",
       "std       3812.310186\n",
       "min          2.000000\n",
       "25%         20.750000\n",
       "50%        178.500000\n",
       "75%       2106.500000\n",
       "max      19558.000000\n",
       "Name: trips_amount, dtype: float64"
      ]
     },
     "execution_count": 38,
     "metadata": {},
     "output_type": "execute_result"
    }
   ],
   "source": [
    "zuber_sql_result_01['trips_amount'].describe()"
   ]
  },
  {
   "cell_type": "markdown",
   "metadata": {},
   "source": [
    "- La mediana tiende a 178 viajes por compañía, existiendo un mínimo de 2 viajes.\n",
    "- Una cuarta parte (16 empresas) poseen una media de 21 viajes cada una.\n",
    "- Otra cuarta parte tiene como promedio 2106 viajes cada una."
   ]
  },
  {
   "cell_type": "markdown",
   "metadata": {},
   "source": [
    "**Teniendo estos valores en cuenta, vemos que existe una gran brecha entre las compañías que se encuentran en el Top y al menos el 75% de las compañías que tienen menos viajes.**\n",
    "\n",
    "*¿Qué podría explicar una diferencia tan grande?*\n",
    "\n",
    "No tenemos más datos que nos permitan clarificar estas diferencias. Solo podemos especular de acuerdo a distintas condiciones dada la naturaleza del negocio. "
   ]
  },
  {
   "cell_type": "markdown",
   "metadata": {},
   "source": [
    "#### Elementos que podrían generar una diferencia en la cantidad de viajes"
   ]
  },
  {
   "cell_type": "markdown",
   "metadata": {},
   "source": [
    "Con la información que tenemos, solo podemos observar los nombres de las compañías. Comparemos las 10 mejores con las 10 con menos viajes:"
   ]
  },
  {
   "cell_type": "code",
   "execution_count": 39,
   "metadata": {},
   "outputs": [
    {
     "data": {
      "text/plain": [
       "0                            Flash Cab\n",
       "1            Taxi Affiliation Services\n",
       "2                    Medallion Leasing\n",
       "3                           Yellow Cab\n",
       "4      Taxi Affiliation Service Yellow\n",
       "5            Chicago Carriage Cab Corp\n",
       "6                         City Service\n",
       "7                             Sun Taxi\n",
       "8            Star North Management LLC\n",
       "9    Blue Ribbon Taxi Association Inc.\n",
       "Name: company_name, dtype: object"
      ]
     },
     "execution_count": 39,
     "metadata": {},
     "output_type": "execute_result"
    }
   ],
   "source": [
    "# Nombres de las 10 compañías con más viajes\n",
    "zuber_sql_result_01['company_name'].head(10)"
   ]
  },
  {
   "cell_type": "code",
   "execution_count": 40,
   "metadata": {},
   "outputs": [
    {
     "data": {
      "text/plain": [
       "54        2192 - 73487 Zeymane Corp\n",
       "55        6057 - 24657 Richard Addo\n",
       "56    5997 - 65283 AW Services Inc.\n",
       "57                      Metro Group\n",
       "58          5062 - 34841 Sam Mestas\n",
       "59     4053 - 40193 Adwar H. Nikola\n",
       "60          2733 - 74600 Benny Jona\n",
       "61    5874 - 73628 Sergey Cab Corp.\n",
       "62       2241 - 44667 - Felman Corp\n",
       "63      3556 - 36214 RC Andrews Cab\n",
       "Name: company_name, dtype: object"
      ]
     },
     "execution_count": 40,
     "metadata": {},
     "output_type": "execute_result"
    }
   ],
   "source": [
    "# Nombres de las 10 compañías con menos viajes\n",
    "zuber_sql_result_01['company_name'].tail(10)"
   ]
  },
  {
   "cell_type": "markdown",
   "metadata": {},
   "source": [
    "Existe una diferencia clara en la composición del nombre. Las compañías con pocos viajes presentan un número seguido del nombre (en su mayoría nombre de personas). Podemos hacer distintas suposiciones en torno a estos datos:\n",
    "\n",
    "    - Corresponde a taxistas independientes.\n",
    "    - Puede ser el número de patente seguido del código postal.\n",
    "    - Número de asociación a red de taxistas.\n",
    "    - Etc.\n",
    " \n",
    "Sin importar la razón, para efectos publicitarios o de recordar el nombre se hace bastante difícil.\n",
    "\n",
    "Por otro lado, tenemos las 10 compañías con más viajes; las que probablemente representan agrupaciones de mayor envergadura y presentan las siguientes características:\n",
    "\n",
    "    - Nombres más cortos y de fácil recordación.\n",
    "    - Asociaciones a colores y figuras fácilmente identificables (Yellow, Blue, Ribbon, Sun, Star, etc.)"
   ]
  },
  {
   "cell_type": "markdown",
   "metadata": {},
   "source": [
    "**Debemos hacer mención especial a la compañía con más viajes \"Flash Cab\", la cual presenta un nombre muy corto que produce rima al pronunciar.**"
   ]
  },
  {
   "cell_type": "markdown",
   "metadata": {},
   "source": [
    "Finalmente, mencionamos algunos otros factores que pueden afectar la preferencia por una compañía de taxis:\n",
    "\n",
    "     - Tarifas.\n",
    "     - Presencia terreritorial.\n",
    "     - Puntualidad.\n",
    "     - Comodidad e higiene de los vehículos.\n",
    "     - Preparación de conductores.\n",
    "     - Etc."
   ]
  },
  {
   "cell_type": "markdown",
   "metadata": {},
   "source": [
    "#### Conclusiones respecto a las compañías de taxis "
   ]
  },
  {
   "cell_type": "markdown",
   "metadata": {},
   "source": [
    "Trabajamos a partir de una tabla con datos de nombres de compañías de taxis y la cantidad de viajes para cada una en el periodo del 15 al 16 de noviembre de 2017. Para ordenar y clarificar la información, se añadieron dos columnas: el promedio de viajes diario para cada compañía y el porcentaje de participación de la compañía.\n",
    "\n",
    "\n",
    "Nuestro dataset nos presenta la información de 64 compañías de taxis y 137 mil viajes aproximadamente en total.\n",
    "\n",
    "\n",
    "Primero, ordenamos los datos para estudiar el comportamiento de las 10 empresas más importante de acuerdo a la cantidad de viajes realizados. Nuestro ranking de las 10 mejores compañías en cantidad de viajes queda conformado de la siguiente manera:\n",
    "\n",
    "    1. Flash Cab\n",
    "    2. Taxi Affiliation Services\n",
    "    3. Medallion Leasing\n",
    "    4. Yellow Cab\n",
    "    5. Taxi Affiliation Service Yellow\n",
    "    6. Chicago Carriage Cab Corp\n",
    "    7.City Service\n",
    "    8. Sun Taxi\n",
    "    9. Star North Management LLC\n",
    "    10. Blue Ribbon Taxi Association Inc.\n",
    "    \n",
    "Algunas consideraciones importantes respecto a este ranking:\n",
    "- Flash Cab, quien figura en primer lugar, llega casi a duplicar a su seguidor más cercano, alcanzando la cifra de casi 20 mil viajes para estos dos días; además, contempla el 14.2% del total de viajes de las compañías de taxis\n",
    "- El resto de compañías presenta una estrecha diferencia.\n",
    "\n",
    "\n",
    "Respecto a las demás compañías, el 75% de ellas poseen menos de 2100 viajes cada una aproximadamente, lo que representa una diferencia considerable respecto de las que están en los primeros lugares; además, debemos considerar que la mediana total de las compañías solo alcanza a los 178 viajes.\n",
    "\n",
    "No tenemos más datos para determinar la razón de las diferencias, solo podemos establecer especulaciones como por ejemplo:\n",
    "- Las compañías más exitosas presentan nombres cortos y de fácil recordación.\n",
    "- Las compañías con menos viajes parecen pertenecer a particulares."
   ]
  },
  {
   "cell_type": "markdown",
   "metadata": {},
   "source": [
    "### Finalizaciones de viajes en barrios de Chicago"
   ]
  },
  {
   "cell_type": "markdown",
   "metadata": {},
   "source": [
    "Planteamos las siguientes preguntas:\n",
    "- ¿Cuál es el total de viajes en Chicago para Noviembre?\n",
    "- ¿Cuál es el promedio diario para toda la ciudad y para cada barrio?\n",
    "- ¿Cuales son los principales barrios de destino?\n",
    "- ¿Existe una diferencia muy grande en la cantidad de viajes para los destinos más visitados respecto a la media?\n",
    "- ¿Qué información adicional podríamos agregar para entender la preferencia de los clientes?"
   ]
  },
  {
   "cell_type": "markdown",
   "metadata": {},
   "source": [
    "#### Enriquecimiento de datos"
   ]
  },
  {
   "cell_type": "markdown",
   "metadata": {},
   "source": [
    "Veamos si podemos potenciar los datos que poseemos:"
   ]
  },
  {
   "cell_type": "code",
   "execution_count": 41,
   "metadata": {},
   "outputs": [
    {
     "data": {
      "text/html": [
       "<div>\n",
       "<style scoped>\n",
       "    .dataframe tbody tr th:only-of-type {\n",
       "        vertical-align: middle;\n",
       "    }\n",
       "\n",
       "    .dataframe tbody tr th {\n",
       "        vertical-align: top;\n",
       "    }\n",
       "\n",
       "    .dataframe thead th {\n",
       "        text-align: right;\n",
       "    }\n",
       "</style>\n",
       "<table border=\"1\" class=\"dataframe\">\n",
       "  <thead>\n",
       "    <tr style=\"text-align: right;\">\n",
       "      <th></th>\n",
       "      <th>dropoff_location_name</th>\n",
       "      <th>average_trips</th>\n",
       "    </tr>\n",
       "  </thead>\n",
       "  <tbody>\n",
       "    <tr>\n",
       "      <th>0</th>\n",
       "      <td>Loop</td>\n",
       "      <td>10727</td>\n",
       "    </tr>\n",
       "    <tr>\n",
       "      <th>1</th>\n",
       "      <td>River North</td>\n",
       "      <td>9523</td>\n",
       "    </tr>\n",
       "    <tr>\n",
       "      <th>2</th>\n",
       "      <td>Streeterville</td>\n",
       "      <td>6664</td>\n",
       "    </tr>\n",
       "    <tr>\n",
       "      <th>3</th>\n",
       "      <td>West Loop</td>\n",
       "      <td>5163</td>\n",
       "    </tr>\n",
       "    <tr>\n",
       "      <th>4</th>\n",
       "      <td>O'Hare</td>\n",
       "      <td>2546</td>\n",
       "    </tr>\n",
       "  </tbody>\n",
       "</table>\n",
       "</div>"
      ],
      "text/plain": [
       "  dropoff_location_name  average_trips\n",
       "0                  Loop          10727\n",
       "1           River North           9523\n",
       "2         Streeterville           6664\n",
       "3             West Loop           5163\n",
       "4                O'Hare           2546"
      ]
     },
     "execution_count": 41,
     "metadata": {},
     "output_type": "execute_result"
    }
   ],
   "source": [
    "# Dataset de los barrios de Chicago\n",
    "zuber_sql_result_04.head(5)"
   ]
  },
  {
   "cell_type": "markdown",
   "metadata": {},
   "source": [
    "**Tenemos una tabla con 94 barrios de Chicago y el promedio de viajes finalizados en cada uno.**\n",
    "\n",
    "Podríamos agrupar en sectores más grandes, como por ejemplo: norte, sur, este y oeste; esto nos permitiría ver si existe alguna relación entre sectores que determine una cantidad de viajes similar. Sin embargo, debido a la cantidad de barrios, lo mejor sería aplicarlo con los que tengan un mayor promedio de viajes.\n",
    "\n",
    "Las columnas que agregarémos son las siguientes:\n",
    "- Se nos informó que el dataset corresponde al mes de noviembre de 2017; por lo tanto, podríamos dividir el promedio de viajes en la cantidad de días correspondiente a esa fecha (30 días).\n",
    "- Agregaremos el factor porcentual que presenta cada barrio."
   ]
  },
  {
   "cell_type": "code",
   "execution_count": 42,
   "metadata": {},
   "outputs": [
    {
     "data": {
      "text/html": [
       "<div>\n",
       "<style scoped>\n",
       "    .dataframe tbody tr th:only-of-type {\n",
       "        vertical-align: middle;\n",
       "    }\n",
       "\n",
       "    .dataframe tbody tr th {\n",
       "        vertical-align: top;\n",
       "    }\n",
       "\n",
       "    .dataframe thead th {\n",
       "        text-align: right;\n",
       "    }\n",
       "</style>\n",
       "<table border=\"1\" class=\"dataframe\">\n",
       "  <thead>\n",
       "    <tr style=\"text-align: right;\">\n",
       "      <th></th>\n",
       "      <th>dropoff_location_name</th>\n",
       "      <th>average_trips</th>\n",
       "      <th>daily_trips</th>\n",
       "    </tr>\n",
       "  </thead>\n",
       "  <tbody>\n",
       "    <tr>\n",
       "      <th>0</th>\n",
       "      <td>Loop</td>\n",
       "      <td>10727</td>\n",
       "      <td>357</td>\n",
       "    </tr>\n",
       "    <tr>\n",
       "      <th>1</th>\n",
       "      <td>River North</td>\n",
       "      <td>9523</td>\n",
       "      <td>317</td>\n",
       "    </tr>\n",
       "    <tr>\n",
       "      <th>2</th>\n",
       "      <td>Streeterville</td>\n",
       "      <td>6664</td>\n",
       "      <td>222</td>\n",
       "    </tr>\n",
       "    <tr>\n",
       "      <th>3</th>\n",
       "      <td>West Loop</td>\n",
       "      <td>5163</td>\n",
       "      <td>172</td>\n",
       "    </tr>\n",
       "    <tr>\n",
       "      <th>4</th>\n",
       "      <td>O'Hare</td>\n",
       "      <td>2546</td>\n",
       "      <td>84</td>\n",
       "    </tr>\n",
       "  </tbody>\n",
       "</table>\n",
       "</div>"
      ],
      "text/plain": [
       "  dropoff_location_name  average_trips  daily_trips\n",
       "0                  Loop          10727          357\n",
       "1           River North           9523          317\n",
       "2         Streeterville           6664          222\n",
       "3             West Loop           5163          172\n",
       "4                O'Hare           2546           84"
      ]
     },
     "execution_count": 42,
     "metadata": {},
     "output_type": "execute_result"
    }
   ],
   "source": [
    "# Creamos la columna 'daily_trips' para señalar los viajes diarios\n",
    "zuber_sql_result_04['daily_trips'] = np.floor(zuber_sql_result_04['average_trips'] / 30)\n",
    "\n",
    "# Cambiamos el tipo de datos\n",
    "zuber_sql_result_04['daily_trips'] = zuber_sql_result_04['daily_trips'].astype('int')\n",
    "\n",
    "# Visualizamos la tabla\n",
    "zuber_sql_result_04.head(5)"
   ]
  },
  {
   "cell_type": "markdown",
   "metadata": {},
   "source": [
    "Ya tenemos el promedio de viajes finalizados diariamente en cada barrio. Ahora, agregarémos el porcentaje correspondiente a cada uno:"
   ]
  },
  {
   "cell_type": "code",
   "execution_count": 43,
   "metadata": {},
   "outputs": [],
   "source": [
    "# Creamos la nueva columna 'percent'\n",
    "zuber_sql_result_04['percent'] = (zuber_sql_result_04['average_trips'] / zuber_sql_result_04['average_trips'].sum()) * 100\n",
    "# Redondeamos a dos decimales\n",
    "zuber_sql_result_04['percent'] = round(zuber_sql_result_04['percent'], 2)\n"
   ]
  },
  {
   "cell_type": "markdown",
   "metadata": {},
   "source": [
    "#### Cantidad de viajes finalizados en cada barrio de Chicago en Noviembre del 2017"
   ]
  },
  {
   "cell_type": "markdown",
   "metadata": {},
   "source": [
    "Ya sabemos que la información corresponde a 94 barrios; ahora, veamos cuantos viajes en total se realizaron en la fecha señalada:\n"
   ]
  },
  {
   "cell_type": "code",
   "execution_count": 44,
   "metadata": {},
   "outputs": [
    {
     "data": {
      "text/plain": [
       "56351"
      ]
     },
     "execution_count": 44,
     "metadata": {},
     "output_type": "execute_result"
    }
   ],
   "source": [
    "# Cantidad de viajes\n",
    "zuber_sql_result_04['average_trips'].sum()"
   ]
  },
  {
   "cell_type": "markdown",
   "metadata": {},
   "source": [
    "**La cantidad de viajes finalizados durante noviembre es de 56 mil aproximadamente.** Veamos la distribución para los 10 barrios que presentan mayores cantidades:"
   ]
  },
  {
   "cell_type": "code",
   "execution_count": 45,
   "metadata": {},
   "outputs": [
    {
     "data": {
      "text/html": [
       "<div>\n",
       "<style scoped>\n",
       "    .dataframe tbody tr th:only-of-type {\n",
       "        vertical-align: middle;\n",
       "    }\n",
       "\n",
       "    .dataframe tbody tr th {\n",
       "        vertical-align: top;\n",
       "    }\n",
       "\n",
       "    .dataframe thead th {\n",
       "        text-align: right;\n",
       "    }\n",
       "</style>\n",
       "<table border=\"1\" class=\"dataframe\">\n",
       "  <thead>\n",
       "    <tr style=\"text-align: right;\">\n",
       "      <th></th>\n",
       "      <th>dropoff_location_name</th>\n",
       "      <th>average_trips</th>\n",
       "      <th>daily_trips</th>\n",
       "      <th>percent</th>\n",
       "    </tr>\n",
       "  </thead>\n",
       "  <tbody>\n",
       "    <tr>\n",
       "      <th>0</th>\n",
       "      <td>Loop</td>\n",
       "      <td>10727</td>\n",
       "      <td>357</td>\n",
       "      <td>19.04</td>\n",
       "    </tr>\n",
       "    <tr>\n",
       "      <th>1</th>\n",
       "      <td>River North</td>\n",
       "      <td>9523</td>\n",
       "      <td>317</td>\n",
       "      <td>16.90</td>\n",
       "    </tr>\n",
       "    <tr>\n",
       "      <th>2</th>\n",
       "      <td>Streeterville</td>\n",
       "      <td>6664</td>\n",
       "      <td>222</td>\n",
       "      <td>11.83</td>\n",
       "    </tr>\n",
       "    <tr>\n",
       "      <th>3</th>\n",
       "      <td>West Loop</td>\n",
       "      <td>5163</td>\n",
       "      <td>172</td>\n",
       "      <td>9.16</td>\n",
       "    </tr>\n",
       "    <tr>\n",
       "      <th>4</th>\n",
       "      <td>O'Hare</td>\n",
       "      <td>2546</td>\n",
       "      <td>84</td>\n",
       "      <td>4.52</td>\n",
       "    </tr>\n",
       "    <tr>\n",
       "      <th>5</th>\n",
       "      <td>Lake View</td>\n",
       "      <td>2420</td>\n",
       "      <td>80</td>\n",
       "      <td>4.29</td>\n",
       "    </tr>\n",
       "    <tr>\n",
       "      <th>6</th>\n",
       "      <td>Grant Park</td>\n",
       "      <td>2068</td>\n",
       "      <td>68</td>\n",
       "      <td>3.67</td>\n",
       "    </tr>\n",
       "    <tr>\n",
       "      <th>7</th>\n",
       "      <td>Museum Campus</td>\n",
       "      <td>1510</td>\n",
       "      <td>50</td>\n",
       "      <td>2.68</td>\n",
       "    </tr>\n",
       "    <tr>\n",
       "      <th>8</th>\n",
       "      <td>Gold Coast</td>\n",
       "      <td>1364</td>\n",
       "      <td>45</td>\n",
       "      <td>2.42</td>\n",
       "    </tr>\n",
       "    <tr>\n",
       "      <th>9</th>\n",
       "      <td>Sheffield &amp; DePaul</td>\n",
       "      <td>1259</td>\n",
       "      <td>41</td>\n",
       "      <td>2.23</td>\n",
       "    </tr>\n",
       "  </tbody>\n",
       "</table>\n",
       "</div>"
      ],
      "text/plain": [
       "  dropoff_location_name  average_trips  daily_trips  percent\n",
       "0                  Loop          10727          357    19.04\n",
       "1           River North           9523          317    16.90\n",
       "2         Streeterville           6664          222    11.83\n",
       "3             West Loop           5163          172     9.16\n",
       "4                O'Hare           2546           84     4.52\n",
       "5             Lake View           2420           80     4.29\n",
       "6            Grant Park           2068           68     3.67\n",
       "7         Museum Campus           1510           50     2.68\n",
       "8            Gold Coast           1364           45     2.42\n",
       "9    Sheffield & DePaul           1259           41     2.23"
      ]
     },
     "execution_count": 45,
     "metadata": {},
     "output_type": "execute_result"
    }
   ],
   "source": [
    "# Viajes en los 10 barrios con mayor participación\n",
    "zuber_sql_result_04.head(10)"
   ]
  },
  {
   "cell_type": "markdown",
   "metadata": {},
   "source": [
    "- \"Loop\" apare en primer lugar con casi 11 mil viajes en total, lo que corresponde a casi un 20% de los viajes totales.\n",
    "- Con poco más de mil viajes de diferencia, le sigue \"River North\", con una presencia de casi el 17%\n",
    "- En el quinto lugar se produce una caída más drástica donde presenta al menos la mitad de viajes que el cuarto lugar; luego le siguen de cerca el resto de barrios.\n",
    "\n",
    "Veamos esta información gráficamente:"
   ]
  },
  {
   "cell_type": "code",
   "execution_count": 46,
   "metadata": {},
   "outputs": [
    {
     "data": {
      "text/plain": [
       "<matplotlib.patches.Rectangle at 0x7f152c4efe80>"
      ]
     },
     "execution_count": 46,
     "metadata": {},
     "output_type": "execute_result"
    },
    {
     "data": {
      "image/png": "[encoded data removed]",
      "text/plain": [
       "<Figure size 864x504 with 1 Axes>"
      ]
     },
     "metadata": {
      "needs_background": "light"
     },
     "output_type": "display_data"
    }
   ],
   "source": [
    "# Guardamos los nombres y cantidades de los 10 mejores en nuevas variables\n",
    "top_neighborhoods = zuber_sql_result_04['dropoff_location_name'].head(10)\n",
    "top_neighborhoods_trips = zuber_sql_result_04['average_trips'].head(10)\n",
    "\n",
    "# Las ordenamos ascendentemente\n",
    "top_neighborhoods = top_neighborhoods[::-1]\n",
    "top_neighborhoods_trips = top_neighborhoods_trips.sort_values(ascending=True)\n",
    "\n",
    "# La posición de las barras que nos permitirá determinar donde serán localizadas\n",
    "z = [i * 0.9 for i in range(len(top_neighborhoods))]\n",
    "\n",
    "# Los colores que usaremos en el gráfico\n",
    "blue = \"#076fa2\"\n",
    "red = \"#E3120B\"\n",
    "grey = \"#a2a2a2\"\n",
    "\n",
    "# Nuestro gráfico de barras horizontal\n",
    "fig, az = plt.subplots(figsize=(12, 7))\n",
    "az.barh(z, top_neighborhoods_trips , height=0.55, align='edge', color=blue)\n",
    "\n",
    "# Escondemos las etiquetas del eje y\n",
    "az.yaxis.set_visible(False)\n",
    "\n",
    "# Agregamos las etiquetas\n",
    "PAD = 0.3\n",
    "for neighborhoods, trips, z_pos in zip(top_neighborhoods, top_neighborhoods_trips, z):\n",
    "    az.text(\n",
    "        PAD, z_pos + 0.5 / 2, neighborhoods, \n",
    "        color='white', fontfamily='DejaVu Sans', fontsize=14, va=\"center\",\n",
    "        path_effects=None\n",
    "    ) \n",
    "\n",
    "# Ajustamos la posición del gráfico\n",
    "fig.subplots_adjust(left=0.005, right=1, top=0.8, bottom=0.15)\n",
    "\n",
    "# Añadimos el título\n",
    "fig.text(\n",
    "    0, 0.925, \"Top 10 barrios de Chicago\", \n",
    "    fontsize=18, fontweight=\"bold\", fontfamily='DejaVu Sans'\n",
    ")\n",
    "# Añadimos subtítulo\n",
    "fig.text(\n",
    "    0, 0.875, \"Cantidad de viajes finalizados en noviembre del 2017\", \n",
    "    fontsize=14, fontfamily='DejaVu Sans'\n",
    ")\n",
    "\n",
    "# Leyenda bajo el gráfico\n",
    "source = \"Datos en base a cantidad de viajes finalizados en 94 barrios de Chicago.\"\n",
    "fig.text(\n",
    "    0, 0.06, source, color=grey, \n",
    "    fontsize=12, fontfamily='DejaVu Sans'\n",
    ")\n",
    "\n",
    "# Añadimos una línea y rectángulo para la presentación del gráfico\n",
    "fig.add_artist(lines.Line2D([0, 1], [1, 1], lw=3, color=red, solid_capstyle=\"butt\"))\n",
    "fig.add_artist(patches.Rectangle((0, 0.975), 0.05, 0.025, color=red))"
   ]
  },
  {
   "cell_type": "markdown",
   "metadata": {},
   "source": [
    "- Confirmamos las diferencias apreciadas anteriormente entre el cuarto y quinto lugar; pero también, nos queda claro que entre el primer lugar y el cuarto se produce una diferencia importante (dobla practicamente la cantidad de viajes).\n",
    "- Los primeros cuatro puestos destacan bastante, en los que \"Loop\" y \"River North\" llevan una delantera clara y es más estrecha su distancia.\n",
    "\n",
    "Veamos la participación de estos 10 lugares en relación a todos los otros barrios:"
   ]
  },
  {
   "cell_type": "code",
   "execution_count": 47,
   "metadata": {},
   "outputs": [
    {
     "data": {
      "text/plain": [
       "<AxesSubplot:title={'center':'Participación de los barrios de Chicago en cantidad de viajes finalizados'}, ylabel='average_trips'>"
      ]
     },
     "execution_count": 47,
     "metadata": {},
     "output_type": "execute_result"
    },
    {
     "data": {
      "image/png": "[encoded data removed]",
      "text/plain": [
       "<Figure size 432x432 with 1 Axes>"
      ]
     },
     "metadata": {},
     "output_type": "display_data"
    }
   ],
   "source": [
    "# Creamos una copia de nuestro dataset\n",
    "grouped_neighborhoods_df = zuber_sql_result_04.copy(deep=True)\n",
    "\n",
    "# Creamos un ciclo for para atribuir la categoría \"otros\" a partír del índice 5 ( del 0 al 4 son nuestro top 5)\n",
    "for i in grouped_neighborhoods_df.index:\n",
    "    if i > 9:\n",
    "        grouped_neighborhoods_df.loc[i, 'dropoff_location_name'] = 'Otros'\n",
    "\n",
    "#Graficamos agregando la suma de los barrios restantes\n",
    "grouped_neighborhoods_df.groupby('dropoff_location_name')['average_trips'].sum().sort_values(ascending=False).plot(\n",
    "    kind='pie', title= 'Participación de los barrios de Chicago en cantidad de viajes finalizados', \n",
    "    figsize=(6,6), autopct='%0.1f %%', explode=(0.1,0.1,0.1,0.1,0.1,0.1,0.1,0.1,0.1,0.1,0.1))\n",
    "\n",
    "#plt.xlabel('En base a la cantidad de viajes realizados en noviembre del 2017.')"
   ]
  },
  {
   "cell_type": "markdown",
   "metadata": {},
   "source": [
    "- El barrio \"Loop\" posee una cantidad cercana de viajes finalizados que el resto de 84 barrios en Chicago.\n",
    "- Si juntamos los 4 barrios principales y con mayor diferencia que apreciamos antes, estos superan al resto de 80 barrios de Chicago.\n",
    "- Dejando de lado estos cuatro primeros lugares, la distribución de los siguientes barrios es similar y más estrecha.\n",
    "\n",
    "Veamos algunos valores contemplando los 94 barrios:"
   ]
  },
  {
   "cell_type": "code",
   "execution_count": 48,
   "metadata": {
    "scrolled": true
   },
   "outputs": [
    {
     "data": {
      "text/html": [
       "<div>\n",
       "<style scoped>\n",
       "    .dataframe tbody tr th:only-of-type {\n",
       "        vertical-align: middle;\n",
       "    }\n",
       "\n",
       "    .dataframe tbody tr th {\n",
       "        vertical-align: top;\n",
       "    }\n",
       "\n",
       "    .dataframe thead th {\n",
       "        text-align: right;\n",
       "    }\n",
       "</style>\n",
       "<table border=\"1\" class=\"dataframe\">\n",
       "  <thead>\n",
       "    <tr style=\"text-align: right;\">\n",
       "      <th></th>\n",
       "      <th>average_trips</th>\n",
       "      <th>daily_trips</th>\n",
       "      <th>percent</th>\n",
       "    </tr>\n",
       "  </thead>\n",
       "  <tbody>\n",
       "    <tr>\n",
       "      <th>count</th>\n",
       "      <td>94.000000</td>\n",
       "      <td>94.000000</td>\n",
       "      <td>94.000000</td>\n",
       "    </tr>\n",
       "    <tr>\n",
       "      <th>mean</th>\n",
       "      <td>599.478723</td>\n",
       "      <td>19.521277</td>\n",
       "      <td>1.063617</td>\n",
       "    </tr>\n",
       "    <tr>\n",
       "      <th>std</th>\n",
       "      <td>1714.555974</td>\n",
       "      <td>57.145490</td>\n",
       "      <td>3.043025</td>\n",
       "    </tr>\n",
       "    <tr>\n",
       "      <th>min</th>\n",
       "      <td>1.000000</td>\n",
       "      <td>0.000000</td>\n",
       "      <td>0.000000</td>\n",
       "    </tr>\n",
       "    <tr>\n",
       "      <th>25%</th>\n",
       "      <td>14.000000</td>\n",
       "      <td>0.000000</td>\n",
       "      <td>0.020000</td>\n",
       "    </tr>\n",
       "    <tr>\n",
       "      <th>50%</th>\n",
       "      <td>51.500000</td>\n",
       "      <td>1.000000</td>\n",
       "      <td>0.090000</td>\n",
       "    </tr>\n",
       "    <tr>\n",
       "      <th>75%</th>\n",
       "      <td>298.750000</td>\n",
       "      <td>9.000000</td>\n",
       "      <td>0.530000</td>\n",
       "    </tr>\n",
       "    <tr>\n",
       "      <th>max</th>\n",
       "      <td>10727.000000</td>\n",
       "      <td>357.000000</td>\n",
       "      <td>19.040000</td>\n",
       "    </tr>\n",
       "  </tbody>\n",
       "</table>\n",
       "</div>"
      ],
      "text/plain": [
       "       average_trips  daily_trips    percent\n",
       "count      94.000000    94.000000  94.000000\n",
       "mean      599.478723    19.521277   1.063617\n",
       "std      1714.555974    57.145490   3.043025\n",
       "min         1.000000     0.000000   0.000000\n",
       "25%        14.000000     0.000000   0.020000\n",
       "50%        51.500000     1.000000   0.090000\n",
       "75%       298.750000     9.000000   0.530000\n",
       "max     10727.000000   357.000000  19.040000"
      ]
     },
     "execution_count": 48,
     "metadata": {},
     "output_type": "execute_result"
    }
   ],
   "source": [
    "# Utilizamos el método describe para visualizar la media\n",
    "zuber_sql_result_04.describe()"
   ]
  },
  {
   "cell_type": "markdown",
   "metadata": {},
   "source": [
    "- La media de viajes finalizados por barrio es de 51. Es una cifra muy distante a los 10727 que tiene el barrio \"Loop\".\n",
    "- El 75% de barrios presenta cifras bajo los 300 viajes finalizados, de los cuales existe un barrio que solo tuvo 1 viaje finalizado.\n",
    "- Reafirmamos la gran concentración de viajes para los primeros lugares; considerando que \"Loop\" logra un promedio diario de 357 viajes finalizados mientras que si consideramos la mediana total de viajes diarios finalizados, es solo de 1."
   ]
  },
  {
   "cell_type": "markdown",
   "metadata": {},
   "source": [
    "**Existe una gran diferencia entre los primeros lugares respecto de los 90 barrios restantes.**\n"
   ]
  },
  {
   "cell_type": "markdown",
   "metadata": {},
   "source": [
    "#### Factores que pueden incidir en una mayor afluencia en ciertos barrios de Chicago"
   ]
  },
  {
   "cell_type": "markdown",
   "metadata": {},
   "source": [
    "Los barrios destacados: **Loop, River North, Streeterville y West Loop**; pueden tener una mayor concurrencia por distintos factores:\n",
    "\n",
    "    - Presencia de centros comerciales.\n",
    "    - Conectividad con otras ciudades.\n",
    "    - Barrios de alta densidad poblacional.\n",
    "    - Etc.\n",
    "    \n",
    "Observarémos gráficamente el posicionamiento de cada barrio para ver si pueden darnos alguna pista."
   ]
  },
  {
   "cell_type": "markdown",
   "metadata": {},
   "source": [
    "**Mapa de Chicago y sus barrios:**"
   ]
  },
  {
   "cell_type": "markdown",
   "metadata": {},
   "source": [
    "<img src=https://images2.imgbox.com/fd/7b/YIeNzrrV_o.jpg>\n",
    "\n",
    "[Mapa de los barrios de Chicago](https://data.cityofchicago.org/widgets/bbvz-uum9?mobile_redirect=true)"
   ]
  },
  {
   "cell_type": "markdown",
   "metadata": {},
   "source": [
    "La imagen presenta el área de Chicago; sus barrios están ensombrecidos y delimitados por trazos en negrita.\n",
    "\n",
    "De acuerdo a lo observado en el mapa, podemos suponer lo siguiente:\n",
    "\n",
    "    - Los barrios más concurridos son precisamente los que se encuentran en el centro de la ciudad.\n",
    "    - Los 4 barrios en el top son todos colindantes.\n",
    "    - Además de estar en el centro, son barrios cercanos a la costa, donde precisamente se puede potenciar \n",
    "    la actividad comercial y de transporte."
   ]
  },
  {
   "cell_type": "markdown",
   "metadata": {},
   "source": [
    "#### Conclusiones respecto a los barrios de Chicago y cantidad de viajes finalizados en cada uno"
   ]
  },
  {
   "cell_type": "markdown",
   "metadata": {},
   "source": [
    "A partir de un dataset con datos de nombres de barrios de chicago (locaciones donde se dejó al cliente) y la cantidad promedio de viajes finalizados para cada barrio en noviembre de 2017; se añadieron dos columnas: el promedio de viajes finalizado diario y el porcentaje de representación de cada barrio respecto al total de viajes.\n",
    "\n",
    "\n",
    "Tenemos la información de 94 barrios en los cuales se contempla una cantidad total de 56 mil viajes.\n",
    "\n",
    "Luego de ordenar nuestros datos, como resultado tenemos un ranking de los 10 barrios más concurridos:\n",
    "\n",
    "    1. Loop\n",
    "    2. River North\n",
    "    3. Streeterville\n",
    "    4. West Loop\n",
    "    5. O'Hare\n",
    "    6. Grant Park\n",
    "    7. Lake View\n",
    "    8. Museum Campus\n",
    "    9. Gold Coast\n",
    "    10. Sheffield & DePaul\n",
    "    \n",
    "**Respecto a este ranking, podemos concluír:**\n",
    "- \"Loop\" posee 11 mil viajes finalizados durante noviembre, alcanzando una media aproximada de 357 viajes por día. Esto dista bastante de la mediana general diaria que es solo de 1 viaje diario. La fuerte popularidad de \"Loop\" lo convierte en un barrio que concentra más visitas que el resto de 84 barrios que quedan fuera del top 10.\n",
    "- Los barrios que le siguen, mantienen altas cifras; en especial, si consideramos los primeros 4 puestos. Estos barrios alcanzan a tener más de la mitad de los viajes de todos los barrios de Chicago.\n",
    "\n",
    "\n",
    "La media general para el mes de noviembre es de 51 viajes realizados, una cifra muy distante del primer lugar. Consideramos también que al menos el 75% de los barrios presentan menos de 300 viajes.\n",
    "\n",
    "No tenemos más datos para determinar la razón de las diferencias, sin embargo, profundizamos el análisis mediante la observación de un mapa de los barrios de Chicago. Esto nos llevó a las siguintes conclusiones:\n",
    "- Los 4 barrios con números más altos se ubican en el corazón de la ciudad.\n",
    "- Todos estos barrios son colindantes.\n",
    "- Se ubican cerca de área costera, donde se puede presentar mayor actividad comercial y de transporte."
   ]
  },
  {
   "cell_type": "markdown",
   "metadata": {},
   "source": [
    "## Prueba de Hipótesis"
   ]
  },
  {
   "cell_type": "markdown",
   "metadata": {},
   "source": [
    "Debemos comprobar la siguiente hipótesis:\n",
    "\n",
    "**La duración promedio de los viajes desde el Loop hasta el Aeropuerto Internacional O'Hare cambia los sábados lluviosos.**\n",
    "\n",
    "\n",
    "Entonces, debemos crear dos tablas a partir de nuestro dataset:\n",
    "- La primera, contendrá los registros de los sábados donde la condición meteorológica sea de lluvia.\n",
    "- La segunda, todos los demás registros exceptuando los sábados lluviosos.\n",
    "\n",
    "Para esto:\n",
    "- Aprovecharemos el tipo de datos datetime en la columna \"start_ts\" para detectar los sábados.\n",
    "- Supondremos que el clima lluvioso está asimilado como la categoría \"Bad\"."
   ]
  },
  {
   "cell_type": "markdown",
   "metadata": {},
   "source": [
    "### Separando los sábados lluviosos"
   ]
  },
  {
   "cell_type": "code",
   "execution_count": 49,
   "metadata": {},
   "outputs": [
    {
     "data": {
      "text/html": [
       "<div>\n",
       "<style scoped>\n",
       "    .dataframe tbody tr th:only-of-type {\n",
       "        vertical-align: middle;\n",
       "    }\n",
       "\n",
       "    .dataframe tbody tr th {\n",
       "        vertical-align: top;\n",
       "    }\n",
       "\n",
       "    .dataframe thead th {\n",
       "        text-align: right;\n",
       "    }\n",
       "</style>\n",
       "<table border=\"1\" class=\"dataframe\">\n",
       "  <thead>\n",
       "    <tr style=\"text-align: right;\">\n",
       "      <th></th>\n",
       "      <th>start_ts</th>\n",
       "      <th>weather_conditions</th>\n",
       "      <th>duration_seconds</th>\n",
       "    </tr>\n",
       "  </thead>\n",
       "  <tbody>\n",
       "    <tr>\n",
       "      <th>0</th>\n",
       "      <td>2017-11-04 16:00:00</td>\n",
       "      <td>Bad</td>\n",
       "      <td>2969</td>\n",
       "    </tr>\n",
       "    <tr>\n",
       "      <th>1</th>\n",
       "      <td>2017-11-18 12:00:00</td>\n",
       "      <td>Bad</td>\n",
       "      <td>1980</td>\n",
       "    </tr>\n",
       "    <tr>\n",
       "      <th>2</th>\n",
       "      <td>2017-11-04 17:00:00</td>\n",
       "      <td>Bad</td>\n",
       "      <td>2460</td>\n",
       "    </tr>\n",
       "    <tr>\n",
       "      <th>3</th>\n",
       "      <td>2017-11-04 16:00:00</td>\n",
       "      <td>Bad</td>\n",
       "      <td>2760</td>\n",
       "    </tr>\n",
       "    <tr>\n",
       "      <th>4</th>\n",
       "      <td>2017-11-18 12:00:00</td>\n",
       "      <td>Bad</td>\n",
       "      <td>2460</td>\n",
       "    </tr>\n",
       "    <tr>\n",
       "      <th>...</th>\n",
       "      <td>...</td>\n",
       "      <td>...</td>\n",
       "      <td>...</td>\n",
       "    </tr>\n",
       "    <tr>\n",
       "      <th>175</th>\n",
       "      <td>2017-11-18 12:00:00</td>\n",
       "      <td>Bad</td>\n",
       "      <td>2560</td>\n",
       "    </tr>\n",
       "    <tr>\n",
       "      <th>176</th>\n",
       "      <td>2017-11-18 10:00:00</td>\n",
       "      <td>Bad</td>\n",
       "      <td>1908</td>\n",
       "    </tr>\n",
       "    <tr>\n",
       "      <th>177</th>\n",
       "      <td>2017-11-18 12:00:00</td>\n",
       "      <td>Bad</td>\n",
       "      <td>2400</td>\n",
       "    </tr>\n",
       "    <tr>\n",
       "      <th>178</th>\n",
       "      <td>2017-11-18 16:00:00</td>\n",
       "      <td>Bad</td>\n",
       "      <td>2186</td>\n",
       "    </tr>\n",
       "    <tr>\n",
       "      <th>179</th>\n",
       "      <td>2017-11-04 16:00:00</td>\n",
       "      <td>Bad</td>\n",
       "      <td>2834</td>\n",
       "    </tr>\n",
       "  </tbody>\n",
       "</table>\n",
       "<p>180 rows × 3 columns</p>\n",
       "</div>"
      ],
      "text/plain": [
       "               start_ts weather_conditions  duration_seconds\n",
       "0   2017-11-04 16:00:00                Bad              2969\n",
       "1   2017-11-18 12:00:00                Bad              1980\n",
       "2   2017-11-04 17:00:00                Bad              2460\n",
       "3   2017-11-04 16:00:00                Bad              2760\n",
       "4   2017-11-18 12:00:00                Bad              2460\n",
       "..                  ...                ...               ...\n",
       "175 2017-11-18 12:00:00                Bad              2560\n",
       "176 2017-11-18 10:00:00                Bad              1908\n",
       "177 2017-11-18 12:00:00                Bad              2400\n",
       "178 2017-11-18 16:00:00                Bad              2186\n",
       "179 2017-11-04 16:00:00                Bad              2834\n",
       "\n",
       "[180 rows x 3 columns]"
      ]
     },
     "execution_count": 49,
     "metadata": {},
     "output_type": "execute_result"
    }
   ],
   "source": [
    "# Creamos una lista para alojar los sábados lluviosos\n",
    "rainy_saturdays = []\n",
    "\n",
    "# Creamos un ciclo for para ir agregando registros según las condiciones\n",
    "for i in new_zuber_sql_result_07.index:\n",
    "    if new_zuber_sql_result_07.loc[i, 'start_ts'].weekday() == 5 and new_zuber_sql_result_07.loc[i, 'weather_conditions'] == 'Bad':\n",
    "        rainy_saturdays.append([new_zuber_sql_result_07.loc[i, 'start_ts'], \n",
    "                                new_zuber_sql_result_07.loc[i, 'weather_conditions'],\n",
    "                                new_zuber_sql_result_07.loc[i, 'duration_seconds']])\n",
    "\n",
    "# Creamos un dataframe a partir de los resultados        \n",
    "rainy_saturdays_df = pd.DataFrame(rainy_saturdays, columns=['start_ts', 'weather_conditions', 'duration_seconds'])\n",
    "\n",
    "# Mostramos como queda\n",
    "rainy_saturdays_df"
   ]
  },
  {
   "cell_type": "markdown",
   "metadata": {},
   "source": [
    "Tenemos 180 sábados lluviosos. Ahora crearemos otro dataframe pero considerando lo inverso"
   ]
  },
  {
   "cell_type": "code",
   "execution_count": 50,
   "metadata": {},
   "outputs": [
    {
     "data": {
      "text/html": [
       "<div>\n",
       "<style scoped>\n",
       "    .dataframe tbody tr th:only-of-type {\n",
       "        vertical-align: middle;\n",
       "    }\n",
       "\n",
       "    .dataframe tbody tr th {\n",
       "        vertical-align: top;\n",
       "    }\n",
       "\n",
       "    .dataframe thead th {\n",
       "        text-align: right;\n",
       "    }\n",
       "</style>\n",
       "<table border=\"1\" class=\"dataframe\">\n",
       "  <thead>\n",
       "    <tr style=\"text-align: right;\">\n",
       "      <th></th>\n",
       "      <th>start_ts</th>\n",
       "      <th>weather_conditions</th>\n",
       "      <th>duration_seconds</th>\n",
       "    </tr>\n",
       "  </thead>\n",
       "  <tbody>\n",
       "    <tr>\n",
       "      <th>0</th>\n",
       "      <td>2017-11-25 16:00:00</td>\n",
       "      <td>Good</td>\n",
       "      <td>2410</td>\n",
       "    </tr>\n",
       "    <tr>\n",
       "      <th>1</th>\n",
       "      <td>2017-11-25 14:00:00</td>\n",
       "      <td>Good</td>\n",
       "      <td>1920</td>\n",
       "    </tr>\n",
       "    <tr>\n",
       "      <th>2</th>\n",
       "      <td>2017-11-25 12:00:00</td>\n",
       "      <td>Good</td>\n",
       "      <td>1543</td>\n",
       "    </tr>\n",
       "    <tr>\n",
       "      <th>3</th>\n",
       "      <td>2017-11-04 10:00:00</td>\n",
       "      <td>Good</td>\n",
       "      <td>2512</td>\n",
       "    </tr>\n",
       "    <tr>\n",
       "      <th>4</th>\n",
       "      <td>2017-11-11 07:00:00</td>\n",
       "      <td>Good</td>\n",
       "      <td>1440</td>\n",
       "    </tr>\n",
       "    <tr>\n",
       "      <th>...</th>\n",
       "      <td>...</td>\n",
       "      <td>...</td>\n",
       "      <td>...</td>\n",
       "    </tr>\n",
       "    <tr>\n",
       "      <th>876</th>\n",
       "      <td>2017-11-04 14:00:00</td>\n",
       "      <td>Good</td>\n",
       "      <td>2700</td>\n",
       "    </tr>\n",
       "    <tr>\n",
       "      <th>877</th>\n",
       "      <td>2017-11-11 06:00:00</td>\n",
       "      <td>Good</td>\n",
       "      <td>1500</td>\n",
       "    </tr>\n",
       "    <tr>\n",
       "      <th>878</th>\n",
       "      <td>2017-11-11 10:00:00</td>\n",
       "      <td>Good</td>\n",
       "      <td>1318</td>\n",
       "    </tr>\n",
       "    <tr>\n",
       "      <th>879</th>\n",
       "      <td>2017-11-11 13:00:00</td>\n",
       "      <td>Good</td>\n",
       "      <td>2100</td>\n",
       "    </tr>\n",
       "    <tr>\n",
       "      <th>880</th>\n",
       "      <td>2017-11-11 08:00:00</td>\n",
       "      <td>Good</td>\n",
       "      <td>1380</td>\n",
       "    </tr>\n",
       "  </tbody>\n",
       "</table>\n",
       "<p>881 rows × 3 columns</p>\n",
       "</div>"
      ],
      "text/plain": [
       "               start_ts weather_conditions  duration_seconds\n",
       "0   2017-11-25 16:00:00               Good              2410\n",
       "1   2017-11-25 14:00:00               Good              1920\n",
       "2   2017-11-25 12:00:00               Good              1543\n",
       "3   2017-11-04 10:00:00               Good              2512\n",
       "4   2017-11-11 07:00:00               Good              1440\n",
       "..                  ...                ...               ...\n",
       "876 2017-11-04 14:00:00               Good              2700\n",
       "877 2017-11-11 06:00:00               Good              1500\n",
       "878 2017-11-11 10:00:00               Good              1318\n",
       "879 2017-11-11 13:00:00               Good              2100\n",
       "880 2017-11-11 08:00:00               Good              1380\n",
       "\n",
       "[881 rows x 3 columns]"
      ]
     },
     "execution_count": 50,
     "metadata": {},
     "output_type": "execute_result"
    }
   ],
   "source": [
    "# Creamos una lista para alojar los sábados lluviosos\n",
    "another_days = []\n",
    "\n",
    "# Creamos un ciclo for para ir agregando registros según las condiciones\n",
    "for i in new_zuber_sql_result_07.index:\n",
    "    if new_zuber_sql_result_07.loc[i, 'start_ts'].weekday() == 5 and new_zuber_sql_result_07.loc[i, 'weather_conditions'] == 'Good':\n",
    "        another_days.append([new_zuber_sql_result_07.loc[i, 'start_ts'], \n",
    "                                new_zuber_sql_result_07.loc[i, 'weather_conditions'],\n",
    "                                new_zuber_sql_result_07.loc[i, 'duration_seconds']])\n",
    "        \n",
    "    elif new_zuber_sql_result_07.loc[i, 'start_ts'].weekday() != 5:\n",
    "        another_days.append([new_zuber_sql_result_07.loc[i, 'start_ts'], \n",
    "                                new_zuber_sql_result_07.loc[i, 'weather_conditions'],\n",
    "                                new_zuber_sql_result_07.loc[i, 'duration_seconds']])\n",
    "        \n",
    "        \n",
    "# Creamos un dataframe a partir de los resultados        \n",
    "another_days_df = pd.DataFrame(another_days, columns=['start_ts', 'weather_conditions', 'duration_seconds'])\n",
    "\n",
    "# Mostramos como queda\n",
    "another_days_df"
   ]
  },
  {
   "cell_type": "markdown",
   "metadata": {},
   "source": [
    "Ahora tenemos los 881 registros faltantes, sumados a los 180 de los sábados lluviosos, completamos los 1061 registros del dataset.\n",
    "\n",
    "Podemos proceder a probar nuestra hipótesis, pero antes, generamos listas con los dataset obtenidos."
   ]
  },
  {
   "cell_type": "code",
   "execution_count": 51,
   "metadata": {},
   "outputs": [],
   "source": [
    "# Listas a partir de los segundos\n",
    "rainy_saturdays_duration = rainy_saturdays_df['duration_seconds']\n",
    "another_days_duration = another_days_df['duration_seconds']"
   ]
  },
  {
   "cell_type": "markdown",
   "metadata": {},
   "source": [
    "### Probando la hipótesis"
   ]
  },
  {
   "cell_type": "markdown",
   "metadata": {},
   "source": [
    "Necesitamos fijar nuestro **umbral para la significación estadística:**\n",
    "\n",
    "Considerarémos un valor del 5% para nuestro umbral, esto quiere decir que; un 5% de probabilidad de obtener un resultado como el que consideramos, es demasiado bajo; por esto estamos dispuestos a rechazar la hipótesis nula, ya que el valor real resultó estar muy lejos del propuesto."
   ]
  },
  {
   "cell_type": "markdown",
   "metadata": {},
   "source": [
    "#### Prueba de Levene"
   ]
  },
  {
   "cell_type": "markdown",
   "metadata": {},
   "source": [
    "Realizaremos la prueba de Levene para determinar nuestro valor \"equal_var\" a ser utilizado en las pruebas t.\n",
    "\n",
    "**Nuestra hipótesis nula será que las varianzas del tiempo en ambos dataframes son iguales.**"
   ]
  },
  {
   "cell_type": "code",
   "execution_count": 52,
   "metadata": {},
   "outputs": [
    {
     "data": {
      "text/plain": [
       "0.5363422476928026"
      ]
     },
     "execution_count": 52,
     "metadata": {},
     "output_type": "execute_result"
    }
   ],
   "source": [
    "# Prueba de Levene\n",
    "duration_trips_levene = st.levene(rainy_saturdays_duration, another_days_duration, center='mean')\n",
    "duration_trips_levene.pvalue"
   ]
  },
  {
   "cell_type": "markdown",
   "metadata": {},
   "source": [
    "Nuestro valor pvalue = 0.53 es bastante más alto que el 0.05 que fijamos como nivel de significancia, por lo tanto, no podemos rechazar nuestra hipótesis nula de que las varianzas son iguales; por lo tanto, fijaremos nuestro valor de \"equal_var\" como True."
   ]
  },
  {
   "cell_type": "markdown",
   "metadata": {},
   "source": [
    "#### Pruebas T"
   ]
  },
  {
   "cell_type": "markdown",
   "metadata": {},
   "source": [
    "**Hipótesis:**  \"*La duración promedio de los viajes desde el Loop hasta el Aeropuerto Internacional O'Hare cambia los sábados lluviosos*.\"\n",
    "\n",
    "Para trabajar en esta hipótesis separámos los datos y construímos dos muestras en base a las condiciones requeridas.\n",
    "\n",
    "**Nuestra hipótesis nula es:**\n",
    "\n",
    " - La duración promedio de los viajes desde el Loop hasta el Aeropuerto Internacional O'Hare es la misma no importando si es sábado y el clima es lluvioso.\n",
    " \n",
    "**Nuestra hipótesis alternativa será:**\n",
    "\n",
    "- La duración promedio de los viajes desde el barrio Loop hasta el Aeropuerto Internacional O'Hare cambia si es un sábado y está lloviendo."
   ]
  },
  {
   "cell_type": "code",
   "execution_count": 53,
   "metadata": {},
   "outputs": [
    {
     "data": {
      "text/plain": [
       "1.5028117595948955e-11"
      ]
     },
     "execution_count": 53,
     "metadata": {},
     "output_type": "execute_result"
    }
   ],
   "source": [
    "# Umbral de significación\n",
    "alpha = 0.05\n",
    "\n",
    "# Probamos la hipótesis de que la duración de viaje desde el barrio Loop al aeropuerto es la misma\n",
    "duration_results = st.ttest_ind(rainy_saturdays_duration, another_days_duration, equal_var=True)\n",
    "duration_results.pvalue"
   ]
  },
  {
   "cell_type": "markdown",
   "metadata": {},
   "source": [
    "El resultado de la probabilidad es bastante bajo, por lo tanto nuestro alpha es mayor. Es decir, rechazamos la hipótesis nula.\n",
    "\n",
    "Podemos concluir que no existe igualdad entre las duraciones de los viajes para días sábado y con lluvia."
   ]
  },
  {
   "cell_type": "markdown",
   "metadata": {},
   "source": [
    "#### Resultado de nuestra hipótesis"
   ]
  },
  {
   "cell_type": "markdown",
   "metadata": {},
   "source": [
    "**Nuestra hipótesis:** \n",
    "\"*La duración promedio de los viajes desde el Loop hasta el Aeropuerto Internacional O'Hare cambia los sábados lluviosos.*\"\n",
    "\n",
    "**Es aceptada.**\n",
    "\n",
    "Los tiempos de duración pueden variar si el viaje se realiza un día sábado y la condición es de lluvia."
   ]
  },
  {
   "cell_type": "markdown",
   "metadata": {},
   "source": [
    "## Conclusiones"
   ]
  },
  {
   "cell_type": "markdown",
   "metadata": {},
   "source": [
    "Trabajamos con tres archivos que nos presentaron distinta información:\n",
    "\n",
    "    1. Compañías de taxis y cantidad de viajes\n",
    "    2. Barrios de chicago y cantidad de viajes finalizados en cada uno\n",
    "    3. Registros detallados de viajes desde el barrio Loop al aeropuerto.\n",
    "    \n",
    "\n",
    "**Respecto al primer archivo:**\n",
    "\n",
    "Tenemos la información de 64 compañías de taxis y las respectivas cantidades de viajes realizados el 15 y 16 de noviembre del 2017. Obtuvimos que las empresas con mayor cantidad de viajes tienen una diferencia considerable respecto a la media. Destacamos los primeros cinco lugares:\n",
    "\n",
    "    1. Flash Cab\n",
    "    2. Taxi Affiliation Services\n",
    "    3. Medallion Leasing\n",
    "    4. Yellow Cab\n",
    "    5. Taxi Affiliation Service Yellow\n",
    "\n",
    "Flash Cab se consagra en primer lugar con casi 20 mil viajes en estos dos días; y llega a representar un 14,2% de los viajes totales e incluso llega casi a duplicar a su seguidor más cercano.\n",
    "\n",
    "Si bien no poseemos más datos para clarificar las diferencias, podemos especular que pue ser por alguna de estas razones:\n",
    "\n",
    "- Las compañías más exitosas presentan nombres cortos y de fácil recordación.\n",
    "- Las compañías con menos viajes parecen pertenecer a particulares.\n",
    "\n",
    "\n",
    "**Respecto al segundo archivo:**\n",
    "\n",
    "Tenemos 94 barrios de chicago y contamos con el promedio de viajes finalizados por cada barrio en noviembre del 2017.\n",
    "\n",
    "*Los viajes finalizados cuentan como el lugar donde fue dejado el cliente.*\n",
    "\n",
    "Luego del análisis, determinamos que la diferencia más grande se aprecia a partir de los 4 barrios que presentan mayor cantidad de finalizaciones de viaje.\n",
    "\n",
    "    1. Loop\n",
    "    2. River North\n",
    "    3. Streeterville\n",
    "    4. West Loop\n",
    "    \n",
    "Loop se presenta como el barrio más popular con cerca de 11 mil viajes finalizados en noviembre del 2017. Se distancia bastante de la media ya que contempla al menos 357 viajes al día, mientras que la mediana tiende a solo 1 viaje por día.\n",
    "\n",
    "Los otros tres barrios en los primeros lugares contemplan una cifra importante, de hecho, si consideramos los viajes de estos cuatro barrios, alcanzamos a tener más de la mitad de viajes en todo Chicago.\n",
    "\n",
    "Realizando una observación del mapa de los barrios de Chicago podemos concluir algunas razones de la alta demanda para estos sectores:\n",
    "\n",
    "- Los 4 barrios con números más altos se ubican en el centro de la ciudad (zona portuaria además) y todos son vecinos.\n",
    "\n",
    "**Respecto a la hipótesis planteada:**\n",
    "\n",
    "Gracias a las pruebas T podemos concluir que nuestra hipótesis es cierta; es decir, la duración promedio de los viajes desde el barrio Loop hasta el Aeropuerto Internacional O'Hare es distinta los días sábados lluviosos.\n",
    "\n",
    "\n",
    "Para finalizar, la información reunida en estos tres archivos nos da cuenta de que debemos tener especial atención a ciertas características a la hora de instalar una empresa de transporte en la ciudad de Chicago:\n",
    "\n",
    "- Existen compañías de taxis que sobresalen por lo que sería necesario profundizar el comportamiento de estas y qué las hace tan especiales.\n",
    "\n",
    "- La principal demanda está concentrada en los cuatro barrios céntricos de la ciudad.\n",
    "\n",
    "- La condición climática puede alterar el tiempo de tardanza desde el barrio principal hacia el aeropuerto; un factor importante a considerar teniendo en cuenta que es necesario cumplir con horarios estrictos para que los pasajeros no pierdan sus vuelos."
   ]
  }
 ],
 "metadata": {
  "kernelspec": {
   "display_name": "Python 3 (ipykernel)",
   "language": "python",
   "name": "python3"
  },
  "language_info": {
   "codemirror_mode": {
    "name": "ipython",
    "version": 3
   },
   "file_extension": ".py",
   "mimetype": "text/x-python",
   "name": "python",
   "nbconvert_exporter": "python",
   "pygments_lexer": "ipython3",
   "version": "3.9.5"
  },
  "toc": {
   "base_numbering": 1,
   "nav_menu": {},
   "number_sections": true,
   "sideBar": true,
   "skip_h1_title": true,
   "title_cell": "Table of Contents",
   "title_sidebar": "Contents",
   "toc_cell": false,
   "toc_position": {},
   "toc_section_display": true,
   "toc_window_display": false
  }
 },
 "nbformat": 4,
 "nbformat_minor": 2
}
